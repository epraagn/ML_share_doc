{
 "cells": [
  {
   "cell_type": "code",
   "execution_count": 1,
   "metadata": {
    "collapsed": true
   },
   "outputs": [],
   "source": [
    "%matplotlib inline\n",
    "\n",
    "from __future__ import print_function\n",
    "from statsmodels.compat import lzip\n",
    "import statsmodels\n",
    "import numpy as np\n",
    "import pandas as pd\n",
    "import statsmodels.formula.api as smf\n",
    "import statsmodels.stats.api as sms\n",
    "import statsmodels.api as sm\n",
    "import matplotlib.pyplot as plt\n",
    "from patsy import dmatrices"
   ]
  },
  {
   "cell_type": "code",
   "execution_count": 2,
   "metadata": {},
   "outputs": [
    {
     "data": {
      "text/plain": [
       "'0.5.1'"
      ]
     },
     "execution_count": 2,
     "metadata": {},
     "output_type": "execute_result"
    }
   ],
   "source": [
    ">>> import patsy\n",
    ">>> patsy.__version__"
   ]
  },
  {
   "cell_type": "code",
   "execution_count": 3,
   "metadata": {
    "collapsed": true
   },
   "outputs": [],
   "source": [
    "df = sm.datasets.get_rdataset(\"Guerry\", \"HistData\").data"
   ]
  },
  {
   "cell_type": "code",
   "execution_count": 4,
   "metadata": {},
   "outputs": [
    {
     "name": "stdout",
     "output_type": "stream",
     "text": [
      "<class 'pandas.core.frame.DataFrame'>\n",
      "RangeIndex: 86 entries, 0 to 85\n",
      "Data columns (total 23 columns):\n",
      "dept               86 non-null int64\n",
      "Region             85 non-null object\n",
      "Department         86 non-null object\n",
      "Crime_pers         86 non-null int64\n",
      "Crime_prop         86 non-null int64\n",
      "Literacy           86 non-null int64\n",
      "Donations          86 non-null int64\n",
      "Infants            86 non-null int64\n",
      "Suicides           86 non-null int64\n",
      "MainCity           86 non-null object\n",
      "Wealth             86 non-null int64\n",
      "Commerce           86 non-null int64\n",
      "Clergy             86 non-null int64\n",
      "Crime_parents      86 non-null int64\n",
      "Infanticide        86 non-null int64\n",
      "Donation_clergy    86 non-null int64\n",
      "Lottery            86 non-null int64\n",
      "Desertion          86 non-null int64\n",
      "Instruction        86 non-null int64\n",
      "Prostitutes        86 non-null int64\n",
      "Distance           86 non-null float64\n",
      "Area               86 non-null int64\n",
      "Pop1831            86 non-null float64\n",
      "dtypes: float64(2), int64(18), object(3)\n",
      "memory usage: 15.5+ KB\n"
     ]
    }
   ],
   "source": [
    "df.info()"
   ]
  },
  {
   "cell_type": "code",
   "execution_count": 5,
   "metadata": {},
   "outputs": [
    {
     "name": "stdout",
     "output_type": "stream",
     "text": [
      "<class 'pandas.core.frame.DataFrame'>\n",
      "RangeIndex: 86 entries, 0 to 85\n",
      "Data columns (total 25 columns):\n",
      "Unnamed: 0         86 non-null int64\n",
      "Unnamed: 0.1       86 non-null int64\n",
      "dept               86 non-null int64\n",
      "Region             85 non-null object\n",
      "Department         86 non-null object\n",
      "Crime_pers         86 non-null int64\n",
      "Crime_prop         86 non-null int64\n",
      "Literacy           86 non-null int64\n",
      "Donations          86 non-null int64\n",
      "Infants            86 non-null int64\n",
      "Suicides           86 non-null int64\n",
      "MainCity           86 non-null object\n",
      "Wealth             86 non-null int64\n",
      "Commerce           86 non-null int64\n",
      "Clergy             86 non-null int64\n",
      "Crime_parents      86 non-null int64\n",
      "Infanticide        86 non-null int64\n",
      "Donation_clergy    86 non-null int64\n",
      "Lottery            86 non-null int64\n",
      "Desertion          86 non-null int64\n",
      "Instruction        86 non-null int64\n",
      "Prostitutes        86 non-null int64\n",
      "Distance           86 non-null float64\n",
      "Area               86 non-null int64\n",
      "Pop1831            86 non-null float64\n",
      "dtypes: float64(2), int64(20), object(3)\n",
      "memory usage: 16.9+ KB\n"
     ]
    },
    {
     "data": {
      "text/html": [
       "<div>\n",
       "<style scoped>\n",
       "    .dataframe tbody tr th:only-of-type {\n",
       "        vertical-align: middle;\n",
       "    }\n",
       "\n",
       "    .dataframe tbody tr th {\n",
       "        vertical-align: top;\n",
       "    }\n",
       "\n",
       "    .dataframe thead th {\n",
       "        text-align: right;\n",
       "    }\n",
       "</style>\n",
       "<table border=\"1\" class=\"dataframe\">\n",
       "  <thead>\n",
       "    <tr style=\"text-align: right;\">\n",
       "      <th></th>\n",
       "      <th>Unnamed: 0</th>\n",
       "      <th>Unnamed: 0.1</th>\n",
       "      <th>dept</th>\n",
       "      <th>Region</th>\n",
       "      <th>Department</th>\n",
       "      <th>Crime_pers</th>\n",
       "      <th>Crime_prop</th>\n",
       "      <th>Literacy</th>\n",
       "      <th>Donations</th>\n",
       "      <th>Infants</th>\n",
       "      <th>...</th>\n",
       "      <th>Crime_parents</th>\n",
       "      <th>Infanticide</th>\n",
       "      <th>Donation_clergy</th>\n",
       "      <th>Lottery</th>\n",
       "      <th>Desertion</th>\n",
       "      <th>Instruction</th>\n",
       "      <th>Prostitutes</th>\n",
       "      <th>Distance</th>\n",
       "      <th>Area</th>\n",
       "      <th>Pop1831</th>\n",
       "    </tr>\n",
       "  </thead>\n",
       "  <tbody>\n",
       "    <tr>\n",
       "      <th>0</th>\n",
       "      <td>0</td>\n",
       "      <td>1</td>\n",
       "      <td>1</td>\n",
       "      <td>E</td>\n",
       "      <td>Ain</td>\n",
       "      <td>28870</td>\n",
       "      <td>15890</td>\n",
       "      <td>37</td>\n",
       "      <td>5098</td>\n",
       "      <td>33120</td>\n",
       "      <td>...</td>\n",
       "      <td>71</td>\n",
       "      <td>60</td>\n",
       "      <td>69</td>\n",
       "      <td>41</td>\n",
       "      <td>55</td>\n",
       "      <td>46</td>\n",
       "      <td>13</td>\n",
       "      <td>218.372</td>\n",
       "      <td>5762</td>\n",
       "      <td>346.03</td>\n",
       "    </tr>\n",
       "    <tr>\n",
       "      <th>1</th>\n",
       "      <td>1</td>\n",
       "      <td>2</td>\n",
       "      <td>2</td>\n",
       "      <td>N</td>\n",
       "      <td>Aisne</td>\n",
       "      <td>26226</td>\n",
       "      <td>5521</td>\n",
       "      <td>51</td>\n",
       "      <td>8901</td>\n",
       "      <td>14572</td>\n",
       "      <td>...</td>\n",
       "      <td>4</td>\n",
       "      <td>82</td>\n",
       "      <td>36</td>\n",
       "      <td>38</td>\n",
       "      <td>82</td>\n",
       "      <td>24</td>\n",
       "      <td>327</td>\n",
       "      <td>65.945</td>\n",
       "      <td>7369</td>\n",
       "      <td>513.00</td>\n",
       "    </tr>\n",
       "    <tr>\n",
       "      <th>2</th>\n",
       "      <td>2</td>\n",
       "      <td>3</td>\n",
       "      <td>3</td>\n",
       "      <td>C</td>\n",
       "      <td>Allier</td>\n",
       "      <td>26747</td>\n",
       "      <td>7925</td>\n",
       "      <td>13</td>\n",
       "      <td>10973</td>\n",
       "      <td>17044</td>\n",
       "      <td>...</td>\n",
       "      <td>46</td>\n",
       "      <td>42</td>\n",
       "      <td>76</td>\n",
       "      <td>66</td>\n",
       "      <td>16</td>\n",
       "      <td>85</td>\n",
       "      <td>34</td>\n",
       "      <td>161.927</td>\n",
       "      <td>7340</td>\n",
       "      <td>298.26</td>\n",
       "    </tr>\n",
       "    <tr>\n",
       "      <th>3</th>\n",
       "      <td>3</td>\n",
       "      <td>4</td>\n",
       "      <td>4</td>\n",
       "      <td>E</td>\n",
       "      <td>Basses-Alpes</td>\n",
       "      <td>12935</td>\n",
       "      <td>7289</td>\n",
       "      <td>46</td>\n",
       "      <td>2733</td>\n",
       "      <td>23018</td>\n",
       "      <td>...</td>\n",
       "      <td>70</td>\n",
       "      <td>12</td>\n",
       "      <td>37</td>\n",
       "      <td>80</td>\n",
       "      <td>32</td>\n",
       "      <td>29</td>\n",
       "      <td>2</td>\n",
       "      <td>351.399</td>\n",
       "      <td>6925</td>\n",
       "      <td>155.90</td>\n",
       "    </tr>\n",
       "    <tr>\n",
       "      <th>4</th>\n",
       "      <td>4</td>\n",
       "      <td>5</td>\n",
       "      <td>5</td>\n",
       "      <td>E</td>\n",
       "      <td>Hautes-Alpes</td>\n",
       "      <td>17488</td>\n",
       "      <td>8174</td>\n",
       "      <td>69</td>\n",
       "      <td>6962</td>\n",
       "      <td>23076</td>\n",
       "      <td>...</td>\n",
       "      <td>22</td>\n",
       "      <td>23</td>\n",
       "      <td>64</td>\n",
       "      <td>79</td>\n",
       "      <td>35</td>\n",
       "      <td>7</td>\n",
       "      <td>1</td>\n",
       "      <td>320.280</td>\n",
       "      <td>5549</td>\n",
       "      <td>129.10</td>\n",
       "    </tr>\n",
       "    <tr>\n",
       "      <th>5</th>\n",
       "      <td>5</td>\n",
       "      <td>6</td>\n",
       "      <td>7</td>\n",
       "      <td>S</td>\n",
       "      <td>Ardeche</td>\n",
       "      <td>9474</td>\n",
       "      <td>10263</td>\n",
       "      <td>27</td>\n",
       "      <td>3188</td>\n",
       "      <td>42117</td>\n",
       "      <td>...</td>\n",
       "      <td>76</td>\n",
       "      <td>47</td>\n",
       "      <td>67</td>\n",
       "      <td>70</td>\n",
       "      <td>19</td>\n",
       "      <td>62</td>\n",
       "      <td>1</td>\n",
       "      <td>279.413</td>\n",
       "      <td>5529</td>\n",
       "      <td>340.73</td>\n",
       "    </tr>\n",
       "    <tr>\n",
       "      <th>6</th>\n",
       "      <td>6</td>\n",
       "      <td>7</td>\n",
       "      <td>8</td>\n",
       "      <td>N</td>\n",
       "      <td>Ardennes</td>\n",
       "      <td>35203</td>\n",
       "      <td>8847</td>\n",
       "      <td>67</td>\n",
       "      <td>6400</td>\n",
       "      <td>16106</td>\n",
       "      <td>...</td>\n",
       "      <td>53</td>\n",
       "      <td>85</td>\n",
       "      <td>49</td>\n",
       "      <td>31</td>\n",
       "      <td>62</td>\n",
       "      <td>9</td>\n",
       "      <td>83</td>\n",
       "      <td>105.694</td>\n",
       "      <td>5229</td>\n",
       "      <td>289.62</td>\n",
       "    </tr>\n",
       "    <tr>\n",
       "      <th>7</th>\n",
       "      <td>7</td>\n",
       "      <td>8</td>\n",
       "      <td>9</td>\n",
       "      <td>S</td>\n",
       "      <td>Ariege</td>\n",
       "      <td>6173</td>\n",
       "      <td>9597</td>\n",
       "      <td>18</td>\n",
       "      <td>3542</td>\n",
       "      <td>22916</td>\n",
       "      <td>...</td>\n",
       "      <td>74</td>\n",
       "      <td>28</td>\n",
       "      <td>63</td>\n",
       "      <td>75</td>\n",
       "      <td>22</td>\n",
       "      <td>77</td>\n",
       "      <td>3</td>\n",
       "      <td>385.313</td>\n",
       "      <td>4890</td>\n",
       "      <td>253.12</td>\n",
       "    </tr>\n",
       "    <tr>\n",
       "      <th>8</th>\n",
       "      <td>8</td>\n",
       "      <td>9</td>\n",
       "      <td>10</td>\n",
       "      <td>E</td>\n",
       "      <td>Aube</td>\n",
       "      <td>19602</td>\n",
       "      <td>4086</td>\n",
       "      <td>59</td>\n",
       "      <td>3608</td>\n",
       "      <td>18642</td>\n",
       "      <td>...</td>\n",
       "      <td>77</td>\n",
       "      <td>54</td>\n",
       "      <td>9</td>\n",
       "      <td>28</td>\n",
       "      <td>86</td>\n",
       "      <td>15</td>\n",
       "      <td>207</td>\n",
       "      <td>83.244</td>\n",
       "      <td>6004</td>\n",
       "      <td>246.36</td>\n",
       "    </tr>\n",
       "    <tr>\n",
       "      <th>9</th>\n",
       "      <td>9</td>\n",
       "      <td>10</td>\n",
       "      <td>11</td>\n",
       "      <td>S</td>\n",
       "      <td>Aude</td>\n",
       "      <td>15647</td>\n",
       "      <td>10431</td>\n",
       "      <td>34</td>\n",
       "      <td>2582</td>\n",
       "      <td>20225</td>\n",
       "      <td>...</td>\n",
       "      <td>80</td>\n",
       "      <td>35</td>\n",
       "      <td>27</td>\n",
       "      <td>50</td>\n",
       "      <td>63</td>\n",
       "      <td>48</td>\n",
       "      <td>1</td>\n",
       "      <td>370.949</td>\n",
       "      <td>6139</td>\n",
       "      <td>270.13</td>\n",
       "    </tr>\n",
       "  </tbody>\n",
       "</table>\n",
       "<p>10 rows × 25 columns</p>\n",
       "</div>"
      ],
      "text/plain": [
       "   Unnamed: 0  Unnamed: 0.1  dept Region    Department  Crime_pers  \\\n",
       "0           0             1     1      E           Ain       28870   \n",
       "1           1             2     2      N         Aisne       26226   \n",
       "2           2             3     3      C        Allier       26747   \n",
       "3           3             4     4      E  Basses-Alpes       12935   \n",
       "4           4             5     5      E  Hautes-Alpes       17488   \n",
       "5           5             6     7      S       Ardeche        9474   \n",
       "6           6             7     8      N      Ardennes       35203   \n",
       "7           7             8     9      S        Ariege        6173   \n",
       "8           8             9    10      E          Aube       19602   \n",
       "9           9            10    11      S          Aude       15647   \n",
       "\n",
       "   Crime_prop  Literacy  Donations  Infants   ...     Crime_parents  \\\n",
       "0       15890        37       5098    33120   ...                71   \n",
       "1        5521        51       8901    14572   ...                 4   \n",
       "2        7925        13      10973    17044   ...                46   \n",
       "3        7289        46       2733    23018   ...                70   \n",
       "4        8174        69       6962    23076   ...                22   \n",
       "5       10263        27       3188    42117   ...                76   \n",
       "6        8847        67       6400    16106   ...                53   \n",
       "7        9597        18       3542    22916   ...                74   \n",
       "8        4086        59       3608    18642   ...                77   \n",
       "9       10431        34       2582    20225   ...                80   \n",
       "\n",
       "  Infanticide  Donation_clergy  Lottery  Desertion  Instruction  Prostitutes  \\\n",
       "0          60               69       41         55           46           13   \n",
       "1          82               36       38         82           24          327   \n",
       "2          42               76       66         16           85           34   \n",
       "3          12               37       80         32           29            2   \n",
       "4          23               64       79         35            7            1   \n",
       "5          47               67       70         19           62            1   \n",
       "6          85               49       31         62            9           83   \n",
       "7          28               63       75         22           77            3   \n",
       "8          54                9       28         86           15          207   \n",
       "9          35               27       50         63           48            1   \n",
       "\n",
       "   Distance  Area  Pop1831  \n",
       "0   218.372  5762   346.03  \n",
       "1    65.945  7369   513.00  \n",
       "2   161.927  7340   298.26  \n",
       "3   351.399  6925   155.90  \n",
       "4   320.280  5549   129.10  \n",
       "5   279.413  5529   340.73  \n",
       "6   105.694  5229   289.62  \n",
       "7   385.313  4890   253.12  \n",
       "8    83.244  6004   246.36  \n",
       "9   370.949  6139   270.13  \n",
       "\n",
       "[10 rows x 25 columns]"
      ]
     },
     "execution_count": 5,
     "metadata": {},
     "output_type": "execute_result"
    }
   ],
   "source": [
    "#Load the file\n",
    "#dat = pd.read_csv('https://raw.githubusercontent.com/vincentarelbundock/Rdatasets/master/csv/HistData/Guerry.csv')\n",
    "\n",
    "dat = pd.read_csv('dataFile.csv')\n",
    "dat.info()\n",
    "\n",
    "dat.head(10)"
   ]
  },
  {
   "cell_type": "code",
   "execution_count": 6,
   "metadata": {
    "collapsed": true
   },
   "outputs": [],
   "source": [
    "y, X = dmatrices('Lottery ~ Literacy + Region', data=dat, return_type='dataframe')"
   ]
  },
  {
   "cell_type": "code",
   "execution_count": 7,
   "metadata": {
    "collapsed": true
   },
   "outputs": [],
   "source": [
    "# Fit regression model (using the natural log of one of the regressors)\n",
    "results = smf.ols(formula='Lottery ~ Literacy + (Pop1831)', data=df).fit()\n",
    "\n",
    "# Inspect the results\n",
    "#print(results.summary())"
   ]
  },
  {
   "cell_type": "code",
   "execution_count": 8,
   "metadata": {},
   "outputs": [
    {
     "data": {
      "text/plain": [
       "[('Jarque-Bera', 2.810082702032472),\n",
       " ('Chi^2 two-tail prob.', 0.24535691048556563),\n",
       " ('Skew', -0.3495299008991147),\n",
       " ('Kurtosis', 2.4563783304002524)]"
      ]
     },
     "execution_count": 8,
     "metadata": {},
     "output_type": "execute_result"
    }
   ],
   "source": [
    "# Normality of the residuals\n",
    "# Fi\n",
    "name = ['Jarque-Bera', 'Chi^2 two-tail prob.', 'Skew', 'Kurtosis']\n",
    "test = sms.jarque_bera(results.resid)\n",
    "lzip(name, test)"
   ]
  },
  {
   "cell_type": "code",
   "execution_count": 9,
   "metadata": {},
   "outputs": [
    {
     "data": {
      "text/plain": [
       "[('Jarque-Bera', 2.810082702032472),\n",
       " ('Chi^2 two-tail prob.', 0.24535691048556563),\n",
       " ('Skew', -0.3495299008991147),\n",
       " ('Kurtosis', 2.4563783304002524)]"
      ]
     },
     "execution_count": 9,
     "metadata": {},
     "output_type": "execute_result"
    }
   ],
   "source": [
    "# Fit regression model without natural log of one of the regressors)\n",
    "results_noLog = smf.ols('Lottery ~ Literacy + Pop1831', data=dat).fit()\n",
    "test_no_log = sms.jarque_bera(results_noLog.resid)\n",
    "lzip(name, test_no_log)"
   ]
  },
  {
   "cell_type": "code",
   "execution_count": 10,
   "metadata": {},
   "outputs": [
    {
     "data": {
      "text/plain": [
       "<matplotlib.collections.PathCollection at 0x10a686ba8>"
      ]
     },
     "execution_count": 10,
     "metadata": {},
     "output_type": "execute_result"
    },
    {
     "data": {
      "image/png": "[encoded data removed]",
      "text/plain": [
       "<Figure size 432x180 with 1 Axes>"
      ]
     },
     "metadata": {},
     "output_type": "display_data"
    }
   ],
   "source": [
    "pred_val = results.fittedvalues.copy()\n",
    "true_val = dat['Lottery'].values.copy()\n",
    "\n",
    "residual = true_val - pred_val\n",
    "\n",
    "fig,ax = plt.subplots(figsize=(6,2.5))\n",
    "ax.scatter(residual, pred_val)"
   ]
  },
  {
   "cell_type": "code",
   "execution_count": 11,
   "metadata": {},
   "outputs": [
    {
     "data": {
      "text/plain": [
       "<matplotlib.collections.PathCollection at 0x1c1eea1908>"
      ]
     },
     "execution_count": 11,
     "metadata": {},
     "output_type": "execute_result"
    },
    {
     "data": {
      "image/png": "[encoded data removed]",
      "text/plain": [
       "<Figure size 432x180 with 1 Axes>"
      ]
     },
     "metadata": {},
     "output_type": "display_data"
    }
   ],
   "source": [
    "pred_val_nl = results_noLog.fittedvalues.copy()\n",
    "true_val_nl = dat['Lottery'].values.copy()\n",
    "\n",
    "residual_nl = true_val_nl - pred_val_nl\n",
    "\n",
    "fig, ax = plt.subplots(figsize=(6,2.5))\n",
    "ax.scatter(residual_nl, pred_val_nl)"
   ]
  },
  {
   "cell_type": "markdown",
   "metadata": {},
   "source": [
    "Following is another way to get residal from result only"
   ]
  },
  {
   "cell_type": "markdown",
   "metadata": {},
   "source": [
    "# Linerarity ( Residual vs Predicted )"
   ]
  },
  {
   "cell_type": "code",
   "execution_count": 12,
   "metadata": {},
   "outputs": [
    {
     "data": {
      "image/png": "[encoded data removed]",
      "text/plain": [
       "<Figure size 432x180 with 1 Axes>"
      ]
     },
     "metadata": {},
     "output_type": "display_data"
    }
   ],
   "source": [
    "\n",
    "fig, ax = plt.subplots(figsize=(6,2.5))\n",
    "_ = ax.scatter(results_noLog.resid,pred_val_nl)"
   ]
  },
  {
   "cell_type": "code",
   "execution_count": 39,
   "metadata": {},
   "outputs": [
    {
     "name": "stdout",
     "output_type": "stream",
     "text": [
      "0     -5.961129\n",
      "1      9.911997\n",
      "2      4.276312\n",
      "3     23.227563\n",
      "4     31.020861\n",
      "5     17.965145\n",
      "6     -6.074221\n",
      "7     12.287734\n",
      "8    -16.011684\n",
      "9     -3.965053\n",
      "10    32.190438\n",
      "11   -42.501394\n",
      "12   -15.969709\n",
      "13    25.778824\n",
      "14    13.787791\n",
      "15    -3.705178\n",
      "16   -20.836758\n",
      "17    21.555008\n",
      "18    -0.988794\n",
      "19    33.856962\n",
      "20    25.533521\n",
      "21    31.227406\n",
      "22   -18.040940\n",
      "23     5.952179\n",
      "24    12.364961\n",
      "25     4.041498\n",
      "26    -8.104922\n",
      "27   -24.719022\n",
      "28   -18.734226\n",
      "29    25.008575\n",
      "        ...    \n",
      "56    11.285936\n",
      "57     7.813420\n",
      "58    20.855867\n",
      "59     8.466935\n",
      "60    14.361486\n",
      "61    -2.201995\n",
      "62    28.195322\n",
      "63   -52.711723\n",
      "64   -15.929715\n",
      "65   -15.268807\n",
      "66   -34.693715\n",
      "67    27.815676\n",
      "68     8.824028\n",
      "69     6.974435\n",
      "70    13.416302\n",
      "71    -9.505542\n",
      "72   -11.633714\n",
      "73   -24.528363\n",
      "74    22.357759\n",
      "75     0.898795\n",
      "76    11.178951\n",
      "77     3.782963\n",
      "78   -29.621617\n",
      "79   -46.848556\n",
      "80    15.668431\n",
      "81   -17.250030\n",
      "82    -7.692281\n",
      "83   -17.421202\n",
      "84     9.198168\n",
      "85    30.547017\n",
      "Length: 86, dtype: float64\n"
     ]
    }
   ],
   "source": [
    "print(results.resid)"
   ]
  },
  {
   "cell_type": "markdown",
   "metadata": {},
   "source": [
    "# A small p-value (typically ≤ 0.05) indicates strong evidence against the null hypothesis, so you reject the null hypothesis.\n",
    "# A large p-value (> 0.05) indicates weak evidence against the null hypothesis, so you fail to reject the null hypothesis.\n",
    "# p-values very close to the cutoff (0.05) are considered to be marginal (could go either way). Always report the p-value so your readers can draw their own conclusions."
   ]
  },
  {
   "cell_type": "code",
   "execution_count": 13,
   "metadata": {},
   "outputs": [
    {
     "name": "stdout",
     "output_type": "stream",
     "text": [
      "For log..\n"
     ]
    },
    {
     "data": {
      "text/plain": [
       "(0.9748456478118896, 0.09135570377111435)"
      ]
     },
     "execution_count": 13,
     "metadata": {},
     "output_type": "execute_result"
    }
   ],
   "source": [
    "#Checking normality of residuals \n",
    "#We use Shapiro Wilk test  from scipy library to check the normality of residuals.\n",
    "     #Null Hypothesis: The residuals are normally distributed.\n",
    "     #Alternative Hypothesis: The residuals are not normally distributed.\n",
    "\n",
    "\n",
    "from scipy import stats\n",
    "print('For log..')\n",
    "stats.shapiro(results.resid)\n",
    "\n"
   ]
  },
  {
   "cell_type": "code",
   "execution_count": 14,
   "metadata": {},
   "outputs": [
    {
     "name": "stdout",
     "output_type": "stream",
     "text": [
      "For No log..\n"
     ]
    },
    {
     "data": {
      "text/plain": [
       "(0.9748456478118896, 0.09135570377111435)"
      ]
     },
     "execution_count": 14,
     "metadata": {},
     "output_type": "execute_result"
    }
   ],
   "source": [
    "print('For No log..')\n",
    "stats.shapiro(results_noLog.resid)"
   ]
  },
  {
   "cell_type": "code",
   "execution_count": 15,
   "metadata": {},
   "outputs": [
    {
     "data": {
      "text/plain": [
       "Ttest_1sampResult(statistic=-1.0821253920497425, pvalue=0.2823688203355932)"
      ]
     },
     "execution_count": 15,
     "metadata": {},
     "output_type": "execute_result"
    }
   ],
   "source": [
    "# harvey_collier\n",
    "sms.linear_harvey_collier(results)"
   ]
  },
  {
   "cell_type": "code",
   "execution_count": 16,
   "metadata": {},
   "outputs": [
    {
     "data": {
      "text/plain": [
       "Ttest_1sampResult(statistic=-1.0821253920497425, pvalue=0.2823688203355932)"
      ]
     },
     "execution_count": 16,
     "metadata": {},
     "output_type": "execute_result"
    }
   ],
   "source": [
    "sms.linear_harvey_collier(results_noLog)"
   ]
  },
  {
   "cell_type": "markdown",
   "metadata": {},
   "source": [
    "# Autocorrelation"
   ]
  },
  {
   "cell_type": "code",
   "execution_count": 17,
   "metadata": {},
   "outputs": [
    {
     "data": {
      "text/plain": [
       "[('Test Stats', array([0.00151352])),\n",
       " ('p-value', array([0.96896694])),\n",
       " ('Box-Pierce-Test Stats', array([0.00146192])),\n",
       " ('Box-Pierce P-Value', array([0.96950023]))]"
      ]
     },
     "execution_count": 17,
     "metadata": {},
     "output_type": "execute_result"
    }
   ],
   "source": [
    "#Checking for autocorrelation To ensure the absence of autocorrelation we use Ljungbox test.\n",
    "    #Null Hypothesis: Autocorrelation is absent.\n",
    "    #Alternative Hypothesis: Autocorrelation is present.\n",
    "    \n",
    "from statsmodels.stats import diagnostic as diag\n",
    "val = diag.acorr_ljungbox(results.resid , lags = 1,boxpierce=True)     \n",
    "name = ['Test Stats','p-value','Box-Pierce-Test Stats','Box-Pierce P-Value']\n",
    "lzip(name,val)"
   ]
  },
  {
   "cell_type": "markdown",
   "metadata": {},
   "source": [
    " Look for Durbin – Watson (DW) statistic. \n",
    " It must lie between 0 and 4. \n",
    " If DW = 2, implies no autocorrelation, \n",
    " If 0 < DW < 2 implies positive autocorrelation \n",
    " If 2 < DW < 4 indicates negative autocorrelation. "
   ]
  },
  {
   "cell_type": "code",
   "execution_count": 18,
   "metadata": {},
   "outputs": [
    {
     "name": "stdout",
     "output_type": "stream",
     "text": [
      "The Durbin-Watson statistic: 1.981180666151201\n"
     ]
    }
   ],
   "source": [
    "test = sms.durbin_watson(results.resid,axis=0)\n",
    "print('The Durbin-Watson statistic:' ,test)"
   ]
  },
  {
   "cell_type": "markdown",
   "metadata": {},
   "source": [
    "# ACF PLOT"
   ]
  },
  {
   "cell_type": "code",
   "execution_count": 19,
   "metadata": {},
   "outputs": [
    {
     "name": "stdout",
     "output_type": "stream",
     "text": [
      "     Month  #Passengers\n",
      "0  1949-01          112\n",
      "1  1949-02          118\n",
      "2  1949-03          132\n",
      "3  1949-04          129\n",
      "4  1949-05          121\n"
     ]
    }
   ],
   "source": [
    "data_loc = 'AirPassengers.csv'\n",
    "data = pd.read_csv(data_loc)\n",
    "\n",
    "print(data.head())"
   ]
  },
  {
   "cell_type": "code",
   "execution_count": 20,
   "metadata": {},
   "outputs": [
    {
     "name": "stdout",
     "output_type": "stream",
     "text": [
      "<class 'pandas.core.frame.DataFrame'>\n",
      "RangeIndex: 144 entries, 0 to 143\n",
      "Data columns (total 2 columns):\n",
      "Month          144 non-null object\n",
      "#Passengers    144 non-null int64\n",
      "dtypes: int64(1), object(1)\n",
      "memory usage: 2.3+ KB\n"
     ]
    }
   ],
   "source": [
    "data.info()"
   ]
  },
  {
   "cell_type": "code",
   "execution_count": 21,
   "metadata": {},
   "outputs": [
    {
     "data": {
      "image/png": "[encoded data removed]",
      "text/plain": [
       "<Figure size 432x288 with 1 Axes>"
      ]
     },
     "metadata": {},
     "output_type": "display_data"
    }
   ],
   "source": [
    "ts_data = data['#Passengers']\n",
    "plt.plot(ts_data)\n",
    "plt.show()"
   ]
  },
  {
   "cell_type": "code",
   "execution_count": 22,
   "metadata": {},
   "outputs": [
    {
     "name": "stdout",
     "output_type": "stream",
     "text": [
      "[1.         0.94804734 0.87557484 0.80668116 0.75262542 0.71376997\n",
      " 0.6817336  0.66290439 0.65561048 0.67094833 0.70271992 0.74324019\n",
      " 0.76039504 0.71266087 0.64634228 0.58592342 0.53795519 0.49974753\n",
      " 0.46873401 0.44987066 0.4416288  0.45722376 0.48248203 0.51712699\n",
      " 0.53218983 0.49397569 0.43772134 0.3876029  0.34802503 0.31498388\n",
      " 0.28849682 0.27080187 0.26429011 0.27679934 0.2985215  0.32558712\n",
      " 0.3370236  0.30333486 0.25397708 0.21065534 0.17217092]\n",
      "[1.         0.94804734 0.87557484 0.80668116 0.75262542 0.71376997\n",
      " 0.6817336  0.66290439 0.65561048 0.67094833 0.70271992 0.74324019\n",
      " 0.76039504 0.71266087 0.64634228 0.58592342 0.53795519 0.49974753\n",
      " 0.46873401 0.44987066 0.4416288  0.45722376 0.48248203 0.51712699\n",
      " 0.53218983 0.49397569 0.43772134 0.3876029  0.34802503 0.31498388\n",
      " 0.28849682 0.27080187 0.26429011 0.27679934 0.2985215  0.32558712\n",
      " 0.3370236  0.30333486 0.25397708 0.21065534 0.17217092]\n"
     ]
    }
   ],
   "source": [
    "# autocorrelation\n",
    "print(sm.graphics.tsa.acf(ts_data, nlags=40))\n",
    "# partial autocorrelation\n",
    "print(sm.graphics.tsa.acf(ts_data, nlags=40))"
   ]
  },
  {
   "cell_type": "code",
   "execution_count": 23,
   "metadata": {},
   "outputs": [
    {
     "data": {
      "image/png": "[encoded data removed]",
      "text/plain": [
       "<Figure size 432x288 with 1 Axes>"
      ]
     },
     "metadata": {},
     "output_type": "display_data"
    }
   ],
   "source": [
    "sm.graphics.tsa.plot_acf(ts_data, lags=143)\n",
    "plt.show()"
   ]
  },
  {
   "cell_type": "code",
   "execution_count": 24,
   "metadata": {},
   "outputs": [
    {
     "name": "stderr",
     "output_type": "stream",
     "text": [
      "/Users/rajnishechauhan/anaconda/lib/python3.6/site-packages/statsmodels/regression/linear_model.py:1283: RuntimeWarning: invalid value encountered in sqrt\n",
      "  return rho, np.sqrt(sigmasq)\n"
     ]
    },
    {
     "data": {
      "image/png": "[encoded data removed]",
      "text/plain": [
       "<Figure size 432x288 with 1 Axes>"
      ]
     },
     "metadata": {},
     "output_type": "display_data"
    }
   ],
   "source": [
    "sm.graphics.tsa.plot_pacf(ts_data, lags=100)\n",
    "plt.show()"
   ]
  },
  {
   "cell_type": "markdown",
   "metadata": {},
   "source": [
    "# Heteroskedasticity tests\n",
    "Checking heteroscedasticity Using Goldfeld Quandt we test for heteroscedasticity.\n",
    "\n",
    "Null Hypothesis: Error terms are homoscedastic\n",
    "\n",
    "Alternative Hypothesis: Error terms are heteroscedastic."
   ]
  },
  {
   "cell_type": "code",
   "execution_count": 25,
   "metadata": {},
   "outputs": [
    {
     "data": {
      "text/plain": [
       "[('F statistic', 1.032155869014919), ('p-value', 0.46038670805343374)]"
      ]
     },
     "execution_count": 25,
     "metadata": {},
     "output_type": "execute_result"
    }
   ],
   "source": [
    "\n",
    "name = ['F statistic', 'p-value']\n",
    "test = sms.het_goldfeldquandt(results.resid, results.model.exog)\n",
    "lzip(name, test)"
   ]
  },
  {
   "cell_type": "markdown",
   "metadata": {},
   "source": [
    "Breush-Pagan test:"
   ]
  },
  {
   "cell_type": "code",
   "execution_count": 26,
   "metadata": {},
   "outputs": [
    {
     "name": "stderr",
     "output_type": "stream",
     "text": [
      "/Users/rajnishechauhan/anaconda/lib/python3.6/site-packages/ipykernel_launcher.py:3: DeprecationWarning: `het_breushpagan` is deprecated, use `het_breuschpagan` instead!\n",
      "Use het_breuschpagan, het_breushpagan will be removed in 0.9 \n",
      "(Note: misspelling missing 'c')\n",
      "  This is separate from the ipykernel package so we can avoid doing imports until\n"
     ]
    },
    {
     "data": {
      "text/plain": [
       "[('Lagrange multiplier statistic', 3.611402856711017),\n",
       " ('p-value', 0.16435912998095564),\n",
       " ('f-value', 1.819101474599087),\n",
       " ('f p-value', 0.1685773635759021)]"
      ]
     },
     "execution_count": 26,
     "metadata": {},
     "output_type": "execute_result"
    }
   ],
   "source": [
    "name = ['Lagrange multiplier statistic', 'p-value', \n",
    "        'f-value', 'f p-value']\n",
    "test = sms.het_breushpagan(results.resid, results.model.exog)\n",
    "lzip(name, test)"
   ]
  },
  {
   "cell_type": "markdown",
   "metadata": {},
   "source": [
    "# MULTICOLLINEARITY\n",
    "VIF value <= 4 suggests no multicollinearity \n",
    "whereas a value of >= 10 implies serious multicollinearity. \n",
    "Above all, a correlation table should also solve the purpose."
   ]
  },
  {
   "cell_type": "code",
   "execution_count": 27,
   "metadata": {},
   "outputs": [
    {
     "name": "stdout",
     "output_type": "stream",
     "text": [
      "Literacy    3.990393\n",
      "Pop1831     3.990393\n",
      "dtype: float64\n"
     ]
    }
   ],
   "source": [
    "from statsmodels.stats.outliers_influence import variance_inflation_factor\n",
    "X_train1 = dat[['Literacy','Pop1831']]\n",
    "vif = [variance_inflation_factor(X_train1.values, i) for i in range(X_train1.shape[1])]\n",
    "vif_s=pd.Series(vif, index =X_train1.columns)\n",
    "print(vif_s) "
   ]
  },
  {
   "cell_type": "code",
   "execution_count": 28,
   "metadata": {},
   "outputs": [
    {
     "name": "stdout",
     "output_type": "stream",
     "text": [
      "Unnamed: 0         1.630455e+06\n",
      "Unnamed: 0.1       1.682505e+06\n",
      "dept               1.774050e+01\n",
      "Crime_pers         3.246488e+00\n",
      "Crime_prop         2.882908e+00\n",
      "Literacy           3.106302e+01\n",
      "Donations          2.053085e+00\n",
      "Infants            1.692584e+00\n",
      "Suicides           2.278849e+00\n",
      "Wealth             2.106328e+00\n",
      "Commerce           2.968576e+00\n",
      "Clergy             2.495463e+00\n",
      "Crime_parents      1.872078e+00\n",
      "Infanticide        1.814390e+00\n",
      "Donation_clergy    2.600097e+00\n",
      "Lottery            2.876223e+00\n",
      "Desertion          2.323016e+00\n",
      "Instruction        3.147494e+01\n",
      "Prostitutes        2.505826e+00\n",
      "Distance           3.040758e+00\n",
      "Area               1.911550e+00\n",
      "Pop1831            2.977025e+00\n",
      "dtype: float64\n"
     ]
    }
   ],
   "source": [
    "from statsmodels.stats.outliers_influence import variance_inflation_factor\n",
    "X_train2 = dat.drop([\"Department\",\"Region\",\"MainCity\"],axis=1)\n",
    "vif = [variance_inflation_factor(X_train2.values, i) for i in range(X_train2.shape[1])]\n",
    "vif_s=pd.Series(vif, index = X_train2.columns)\n",
    "print(vif_s) "
   ]
  },
  {
   "cell_type": "markdown",
   "metadata": {},
   "source": [
    "VIF value <= 4 suggests no multicollinearity whereas a value of >= 10 implies serious multicollinearity. Above all, a correlation table should also solve the purpose."
   ]
  },
  {
   "cell_type": "code",
   "execution_count": 29,
   "metadata": {},
   "outputs": [
    {
     "data": {
      "image/png": "[encoded data removed]",
      "text/plain": [
       "<Figure size 432x288 with 2 Axes>"
      ]
     },
     "metadata": {},
     "output_type": "display_data"
    }
   ],
   "source": [
    "import seaborn\n",
    "\n",
    "v_corr = X_train2.corr(method='pearson')\n",
    "\n",
    "mask=np.zeros_like(v_corr)\n",
    "mask[np.triu_indices_from(mask)] = True\n",
    "\n",
    "seaborn.heatmap(v_corr,cmap='RdYlGn_r',vmax=1.0,vmin=-1.0,mask=mask,linewidths=2)\n",
    "\n",
    "plt.yticks(rotation=0)\n",
    "plt.xticks(rotation=90)\n",
    "plt.show()"
   ]
  },
  {
   "cell_type": "code",
   "execution_count": 30,
   "metadata": {},
   "outputs": [
    {
     "data": {
      "text/plain": [
       "array([[-0.01628959,  0.0034757 ,  0.00653306],\n",
       "       [-0.03925428,  0.03164204,  0.04475492],\n",
       "       [ 0.03640202, -0.03401921, -0.00942704],\n",
       "       [ 0.13857861,  0.06638613, -0.19494806],\n",
       "       [ 0.07539294,  0.33433165, -0.32847944]])"
      ]
     },
     "execution_count": 30,
     "metadata": {},
     "output_type": "execute_result"
    }
   ],
   "source": [
    "from statsmodels.stats.outliers_influence import OLSInfluence\n",
    "test_class = OLSInfluence(results)\n",
    "test_class.dfbetas[:5,:]"
   ]
  },
  {
   "cell_type": "code",
   "execution_count": 31,
   "metadata": {},
   "outputs": [
    {
     "name": "stdout",
     "output_type": "stream",
     "text": [
      "    dfb_Intercept  dfb_Literacy  dfb_Pop1831   cooks_d  standard_resid  \\\n",
      "0       -0.016290      0.003476     0.006533  0.000347       -0.288859   \n",
      "1       -0.039254      0.031642     0.044755  0.002034        0.483523   \n",
      "2        0.036402     -0.034019    -0.009427  0.000622        0.210234   \n",
      "3        0.138579      0.066386    -0.194948  0.018702        1.142366   \n",
      "4        0.075393      0.334332    -0.328479  0.076414        1.562444   \n",
      "5        0.084960     -0.065442    -0.018388  0.004637        0.873011   \n",
      "6        0.008500     -0.054949     0.024642  0.001516       -0.299827   \n",
      "7        0.106732     -0.076488    -0.048905  0.004476        0.602584   \n",
      "8       -0.019259     -0.105957     0.086269  0.008246       -0.786350   \n",
      "9       -0.020492      0.005009     0.014794  0.000234       -0.192742   \n",
      "10       0.114737     -0.080136    -0.015420  0.011859        1.561470   \n",
      "11      -0.096831      0.014009     0.028157  0.016971       -2.059001   \n",
      "12       0.058984     -0.056888    -0.061197  0.004973       -0.778465   \n",
      "13       0.156602     -0.055953    -0.105970  0.011378        1.254820   \n",
      "14       0.034687     -0.012976    -0.006677  0.001828        0.668049   \n",
      "15       0.000225      0.001069    -0.008799  0.000153       -0.179695   \n",
      "16      -0.201525      0.164537     0.078831  0.016223       -1.026358   \n",
      "17       0.191086     -0.179576    -0.050063  0.016753        1.060950   \n",
      "18       0.002196     -0.006347     0.000662  0.000023       -0.048313   \n",
      "19       0.013285     -0.281933     0.306559  0.063664        1.684439   \n",
      "20       0.189834     -0.119971    -0.093649  0.014592        1.246815   \n",
      "21       0.092382     -0.220578     0.138675  0.030088        1.532452   \n",
      "22       0.035489     -0.203545     0.094435  0.019161       -0.899156   \n",
      "23       0.017674      0.006473    -0.017199  0.000437        0.288881   \n",
      "24      -0.021562      0.042682     0.016208  0.002172        0.600812   \n",
      "25       0.005260      0.019675    -0.016159  0.000356        0.197280   \n",
      "26      -0.019970      0.065993    -0.049095  0.002754       -0.400247   \n",
      "27      -0.047545     -0.007309     0.019288  0.005759       -1.197548   \n",
      "28      -0.034407      0.050353    -0.037220  0.004466       -0.909465   \n",
      "29       0.085383     -0.004346    -0.058738  0.006957        1.212856   \n",
      "..            ...           ...          ...       ...             ...   \n",
      "56      -0.204856     -0.002589     0.304570  0.033196        0.611587   \n",
      "57      -0.012829      0.034849     0.002199  0.000990        0.380120   \n",
      "58      -0.022511      0.032530     0.043935  0.005117        1.011861   \n",
      "59      -0.062117      0.018488     0.084506  0.003354        0.419252   \n",
      "60       0.006752     -0.101526     0.111668  0.009077        0.710041   \n",
      "61       0.002438     -0.004851    -0.003436  0.000058       -0.106846   \n",
      "62       0.075229      0.134956    -0.161140  0.021021        1.380103   \n",
      "63      -0.477385      0.102292     0.431575  0.091003       -2.589604   \n",
      "64       0.108407     -0.105653    -0.084432  0.009201       -0.784159   \n",
      "65       0.085652     -0.151583    -0.012129  0.010249       -0.754879   \n",
      "66       0.031402     -0.055528    -0.064525  0.013726       -1.682854   \n",
      "67      -0.031402      0.175194    -0.055556  0.018025        1.358993   \n",
      "68      -0.006387     -0.023860     0.047935  0.001641        0.430547   \n",
      "69       0.008998     -0.021511     0.021383  0.000739        0.339091   \n",
      "70      -0.297964      0.131590     0.314820  0.044382        0.723592   \n",
      "71       0.069006     -0.001446    -0.111278  0.005138       -0.473251   \n",
      "72      -0.002112     -0.054810     0.027562  0.002457       -0.566641   \n",
      "73       0.080797     -0.121966    -0.050455  0.011869       -1.195833   \n",
      "74       0.071879      0.017731    -0.065788  0.006121        1.085051   \n",
      "75      -0.003082      0.000840     0.005222  0.000017        0.043868   \n",
      "76       0.069578     -0.064897    -0.012138  0.002710        0.545648   \n",
      "77       0.028635     -0.015007    -0.017082  0.000327        0.184779   \n",
      "78      -0.181313      0.144024     0.052447  0.016501       -1.443343   \n",
      "79      -0.261329      0.011992     0.238877  0.039024       -2.281328   \n",
      "80       0.075112     -0.051662    -0.022252  0.003423        0.761205   \n",
      "81      -0.113254      0.070614     0.052850  0.005652       -0.840620   \n",
      "82      -0.068132      0.060962     0.020679  0.002062       -0.378357   \n",
      "83       0.055152     -0.122303    -0.001284  0.007963       -0.852629   \n",
      "84       0.006953      0.022485    -0.010490  0.000978        0.446209   \n",
      "85       0.134145      0.112171    -0.214306  0.026949        1.497346   \n",
      "\n",
      "    hat_diag  dffits_internal  student_resid    dffits  \n",
      "0   0.012337        -0.032284      -0.287258 -0.032105  \n",
      "1   0.025437         0.078117       0.481280  0.077755  \n",
      "2   0.040478         0.043180       0.209019  0.042931  \n",
      "3   0.041221         0.236867       1.144497  0.237308  \n",
      "4   0.085843         0.478792       1.576359  0.483056  \n",
      "5   0.017926         0.117947       0.871747  0.117776  \n",
      "6   0.048163        -0.067445      -0.298177 -0.067073  \n",
      "7   0.035659         0.115873       0.600257  0.115426  \n",
      "8   0.038466        -0.157279      -0.784526 -0.156914  \n",
      "9   0.018555        -0.026502      -0.191621 -0.026348  \n",
      "10  0.014382         0.188619       1.575346  0.190296  \n",
      "11  0.011867        -0.225641      -2.100918 -0.230235  \n",
      "12  0.024026        -0.122140      -0.776601 -0.121847  \n",
      "13  0.021219         0.184757       1.259239  0.185408  \n",
      "14  0.012141         0.074060       0.665805  0.073812  \n",
      "15  0.014022        -0.021429      -0.178644 -0.021304  \n",
      "16  0.044162        -0.220612      -1.026693 -0.220684  \n",
      "17  0.042743         0.224187       1.061764  0.224359  \n",
      "18  0.028603        -0.008290      -0.048022 -0.008240  \n",
      "19  0.063069         0.437027       1.703633  0.442007  \n",
      "20  0.027389         0.209227       1.251053  0.209939  \n",
      "21  0.037013         0.300438       1.545209  0.302939  \n",
      "22  0.066380        -0.239756      -0.898108 -0.239477  \n",
      "23  0.015451         0.036189       0.287280  0.035988  \n",
      "24  0.017730         0.080720       0.598484  0.080407  \n",
      "25  0.026717         0.032686       0.196134  0.032496  \n",
      "26  0.049039        -0.090891      -0.398214 -0.090429  \n",
      "27  0.011904        -0.131446      -1.200731 -0.131796  \n",
      "28  0.015939        -0.115746      -0.908507 -0.115624  \n",
      "29  0.013989         0.144463       1.216354  0.144880  \n",
      "..       ...              ...            ...       ...  \n",
      "56  0.210267         0.315576       0.609266  0.314378  \n",
      "57  0.020143         0.054501       0.378153  0.054219  \n",
      "58  0.014772         0.123902       1.012009  0.123920  \n",
      "59  0.054147         0.100312       0.417161  0.099811  \n",
      "60  0.051246         0.165019       0.707904  0.164523  \n",
      "61  0.014999        -0.013185      -0.106208 -0.013106  \n",
      "62  0.032049         0.251126       1.387779  0.252523  \n",
      "63  0.039118        -0.522502      -2.684696 -0.541689  \n",
      "64  0.042960        -0.166139      -0.782324 -0.165750  \n",
      "65  0.051194        -0.175346      -0.752907 -0.174888  \n",
      "66  0.014332        -0.202925      -1.701974 -0.205231  \n",
      "67  0.028446         0.232537       1.366065  0.233747  \n",
      "68  0.025877         0.070173       0.428425  0.069827  \n",
      "69  0.018914         0.047082       0.337276  0.046830  \n",
      "70  0.202740         0.364892       0.721499  0.363836  \n",
      "71  0.064393        -0.124154      -0.471027 -0.123571  \n",
      "72  0.022442        -0.085856      -0.564310 -0.085503  \n",
      "73  0.024295        -0.188701      -1.198981 -0.189198  \n",
      "74  0.015358         0.135514       1.086226  0.135661  \n",
      "75  0.026472         0.007234       0.043603  0.007190  \n",
      "76  0.026582         0.090168       0.543326  0.089784  \n",
      "77  0.027963         0.031340       0.183700  0.031157  \n",
      "78  0.023211        -0.222495      -1.452972 -0.223980  \n",
      "79  0.022000        -0.342157      -2.342164 -0.351281  \n",
      "80  0.017415         0.101340       0.759260  0.101082  \n",
      "81  0.023432        -0.130211      -0.839120 -0.129979  \n",
      "82  0.041420        -0.078649      -0.376396 -0.078241  \n",
      "83  0.031815        -0.154559      -0.851213 -0.154302  \n",
      "84  0.014518         0.054159       0.444045  0.053896  \n",
      "85  0.034805         0.284337       1.508817  0.286515  \n",
      "\n",
      "[86 rows x 9 columns]\n"
     ]
    }
   ],
   "source": [
    "f = test_class.summary_frame()\n",
    "print(f)"
   ]
  },
  {
   "cell_type": "code",
   "execution_count": 32,
   "metadata": {},
   "outputs": [
    {
     "name": "stdout",
     "output_type": "stream",
     "text": [
      "    dfb_Intercept  dfb_Literacy  dfb_Pop1831   cooks_d  standard_resid  \\\n",
      "0       -0.016290      0.003476     0.006533  0.000347       -0.288859   \n",
      "1       -0.039254      0.031642     0.044755  0.002034        0.483523   \n",
      "2        0.036402     -0.034019    -0.009427  0.000622        0.210234   \n",
      "3        0.138579      0.066386    -0.194948  0.018702        1.142366   \n",
      "4        0.075393      0.334332    -0.328479  0.076414        1.562444   \n",
      "5        0.084960     -0.065442    -0.018388  0.004637        0.873011   \n",
      "6        0.008500     -0.054949     0.024642  0.001516       -0.299827   \n",
      "7        0.106732     -0.076488    -0.048905  0.004476        0.602584   \n",
      "8       -0.019259     -0.105957     0.086269  0.008246       -0.786350   \n",
      "9       -0.020492      0.005009     0.014794  0.000234       -0.192742   \n",
      "10       0.114737     -0.080136    -0.015420  0.011859        1.561470   \n",
      "11      -0.096831      0.014009     0.028157  0.016971       -2.059001   \n",
      "12       0.058984     -0.056888    -0.061197  0.004973       -0.778465   \n",
      "13       0.156602     -0.055953    -0.105970  0.011378        1.254820   \n",
      "14       0.034687     -0.012976    -0.006677  0.001828        0.668049   \n",
      "15       0.000225      0.001069    -0.008799  0.000153       -0.179695   \n",
      "16      -0.201525      0.164537     0.078831  0.016223       -1.026358   \n",
      "17       0.191086     -0.179576    -0.050063  0.016753        1.060950   \n",
      "18       0.002196     -0.006347     0.000662  0.000023       -0.048313   \n",
      "19       0.013285     -0.281933     0.306559  0.063664        1.684439   \n",
      "20       0.189834     -0.119971    -0.093649  0.014592        1.246815   \n",
      "21       0.092382     -0.220578     0.138675  0.030088        1.532452   \n",
      "22       0.035489     -0.203545     0.094435  0.019161       -0.899156   \n",
      "23       0.017674      0.006473    -0.017199  0.000437        0.288881   \n",
      "24      -0.021562      0.042682     0.016208  0.002172        0.600812   \n",
      "25       0.005260      0.019675    -0.016159  0.000356        0.197280   \n",
      "26      -0.019970      0.065993    -0.049095  0.002754       -0.400247   \n",
      "27      -0.047545     -0.007309     0.019288  0.005759       -1.197548   \n",
      "28      -0.034407      0.050353    -0.037220  0.004466       -0.909465   \n",
      "29       0.085383     -0.004346    -0.058738  0.006957        1.212856   \n",
      "..            ...           ...          ...       ...             ...   \n",
      "56      -0.204856     -0.002589     0.304570  0.033196        0.611587   \n",
      "57      -0.012829      0.034849     0.002199  0.000990        0.380120   \n",
      "58      -0.022511      0.032530     0.043935  0.005117        1.011861   \n",
      "59      -0.062117      0.018488     0.084506  0.003354        0.419252   \n",
      "60       0.006752     -0.101526     0.111668  0.009077        0.710041   \n",
      "61       0.002438     -0.004851    -0.003436  0.000058       -0.106846   \n",
      "62       0.075229      0.134956    -0.161140  0.021021        1.380103   \n",
      "63      -0.477385      0.102292     0.431575  0.091003       -2.589604   \n",
      "64       0.108407     -0.105653    -0.084432  0.009201       -0.784159   \n",
      "65       0.085652     -0.151583    -0.012129  0.010249       -0.754879   \n",
      "66       0.031402     -0.055528    -0.064525  0.013726       -1.682854   \n",
      "67      -0.031402      0.175194    -0.055556  0.018025        1.358993   \n",
      "68      -0.006387     -0.023860     0.047935  0.001641        0.430547   \n",
      "69       0.008998     -0.021511     0.021383  0.000739        0.339091   \n",
      "70      -0.297964      0.131590     0.314820  0.044382        0.723592   \n",
      "71       0.069006     -0.001446    -0.111278  0.005138       -0.473251   \n",
      "72      -0.002112     -0.054810     0.027562  0.002457       -0.566641   \n",
      "73       0.080797     -0.121966    -0.050455  0.011869       -1.195833   \n",
      "74       0.071879      0.017731    -0.065788  0.006121        1.085051   \n",
      "75      -0.003082      0.000840     0.005222  0.000017        0.043868   \n",
      "76       0.069578     -0.064897    -0.012138  0.002710        0.545648   \n",
      "77       0.028635     -0.015007    -0.017082  0.000327        0.184779   \n",
      "78      -0.181313      0.144024     0.052447  0.016501       -1.443343   \n",
      "79      -0.261329      0.011992     0.238877  0.039024       -2.281328   \n",
      "80       0.075112     -0.051662    -0.022252  0.003423        0.761205   \n",
      "81      -0.113254      0.070614     0.052850  0.005652       -0.840620   \n",
      "82      -0.068132      0.060962     0.020679  0.002062       -0.378357   \n",
      "83       0.055152     -0.122303    -0.001284  0.007963       -0.852629   \n",
      "84       0.006953      0.022485    -0.010490  0.000978        0.446209   \n",
      "85       0.134145      0.112171    -0.214306  0.026949        1.497346   \n",
      "\n",
      "    hat_diag  dffits_internal  student_resid    dffits  \n",
      "0   0.012337        -0.032284      -0.287258 -0.032105  \n",
      "1   0.025437         0.078117       0.481280  0.077755  \n",
      "2   0.040478         0.043180       0.209019  0.042931  \n",
      "3   0.041221         0.236867       1.144497  0.237308  \n",
      "4   0.085843         0.478792       1.576359  0.483056  \n",
      "5   0.017926         0.117947       0.871747  0.117776  \n",
      "6   0.048163        -0.067445      -0.298177 -0.067073  \n",
      "7   0.035659         0.115873       0.600257  0.115426  \n",
      "8   0.038466        -0.157279      -0.784526 -0.156914  \n",
      "9   0.018555        -0.026502      -0.191621 -0.026348  \n",
      "10  0.014382         0.188619       1.575346  0.190296  \n",
      "11  0.011867        -0.225641      -2.100918 -0.230235  \n",
      "12  0.024026        -0.122140      -0.776601 -0.121847  \n",
      "13  0.021219         0.184757       1.259239  0.185408  \n",
      "14  0.012141         0.074060       0.665805  0.073812  \n",
      "15  0.014022        -0.021429      -0.178644 -0.021304  \n",
      "16  0.044162        -0.220612      -1.026693 -0.220684  \n",
      "17  0.042743         0.224187       1.061764  0.224359  \n",
      "18  0.028603        -0.008290      -0.048022 -0.008240  \n",
      "19  0.063069         0.437027       1.703633  0.442007  \n",
      "20  0.027389         0.209227       1.251053  0.209939  \n",
      "21  0.037013         0.300438       1.545209  0.302939  \n",
      "22  0.066380        -0.239756      -0.898108 -0.239477  \n",
      "23  0.015451         0.036189       0.287280  0.035988  \n",
      "24  0.017730         0.080720       0.598484  0.080407  \n",
      "25  0.026717         0.032686       0.196134  0.032496  \n",
      "26  0.049039        -0.090891      -0.398214 -0.090429  \n",
      "27  0.011904        -0.131446      -1.200731 -0.131796  \n",
      "28  0.015939        -0.115746      -0.908507 -0.115624  \n",
      "29  0.013989         0.144463       1.216354  0.144880  \n",
      "..       ...              ...            ...       ...  \n",
      "56  0.210267         0.315576       0.609266  0.314378  \n",
      "57  0.020143         0.054501       0.378153  0.054219  \n",
      "58  0.014772         0.123902       1.012009  0.123920  \n",
      "59  0.054147         0.100312       0.417161  0.099811  \n",
      "60  0.051246         0.165019       0.707904  0.164523  \n",
      "61  0.014999        -0.013185      -0.106208 -0.013106  \n",
      "62  0.032049         0.251126       1.387779  0.252523  \n",
      "63  0.039118        -0.522502      -2.684696 -0.541689  \n",
      "64  0.042960        -0.166139      -0.782324 -0.165750  \n",
      "65  0.051194        -0.175346      -0.752907 -0.174888  \n",
      "66  0.014332        -0.202925      -1.701974 -0.205231  \n",
      "67  0.028446         0.232537       1.366065  0.233747  \n",
      "68  0.025877         0.070173       0.428425  0.069827  \n",
      "69  0.018914         0.047082       0.337276  0.046830  \n",
      "70  0.202740         0.364892       0.721499  0.363836  \n",
      "71  0.064393        -0.124154      -0.471027 -0.123571  \n",
      "72  0.022442        -0.085856      -0.564310 -0.085503  \n",
      "73  0.024295        -0.188701      -1.198981 -0.189198  \n",
      "74  0.015358         0.135514       1.086226  0.135661  \n",
      "75  0.026472         0.007234       0.043603  0.007190  \n",
      "76  0.026582         0.090168       0.543326  0.089784  \n",
      "77  0.027963         0.031340       0.183700  0.031157  \n",
      "78  0.023211        -0.222495      -1.452972 -0.223980  \n",
      "79  0.022000        -0.342157      -2.342164 -0.351281  \n",
      "80  0.017415         0.101340       0.759260  0.101082  \n",
      "81  0.023432        -0.130211      -0.839120 -0.129979  \n",
      "82  0.041420        -0.078649      -0.376396 -0.078241  \n",
      "83  0.031815        -0.154559      -0.851213 -0.154302  \n",
      "84  0.014518         0.054159       0.444045  0.053896  \n",
      "85  0.034805         0.284337       1.508817  0.286515  \n",
      "\n",
      "[86 rows x 9 columns]\n"
     ]
    }
   ],
   "source": [
    "t = test_class.summary_table()\n",
    "print(f)"
   ]
  },
  {
   "cell_type": "markdown",
   "metadata": {},
   "source": [
    "Leverage is the potential for a case to have an influence on the model. You can identify points with high leverage as those furthest to the right. A point with high leverage may not have much influence on the model if it fits the overall model without that case.\n",
    "\n",
    "Influence combines the leverage and residual of a case to measure how the parameter estimates would change if that case were excluded. \n",
    "\n",
    "Points with a large residual and high leverage have the most influence. \n",
    "\n",
    "They can have an adverse effect on (perturb) the model if they are changed or excluded, making the model less robust. Sometimes a small group of influential points can have an unduly large impact on the fit of the model.\n",
    "\n"
   ]
  },
  {
   "cell_type": "code",
   "execution_count": 33,
   "metadata": {},
   "outputs": [
    {
     "data": {
      "image/png": "[encoded data removed]",
      "text/plain": [
       "<Figure size 576x432 with 1 Axes>"
      ]
     },
     "metadata": {},
     "output_type": "display_data"
    }
   ],
   "source": [
    "fig, ax = plt.subplots(figsize=(8,6))\n",
    "fig = sm.graphics.influence_plot(results, ax=ax,criterion=\"cooks\",alpha=0.05)"
   ]
  },
  {
   "cell_type": "code",
   "execution_count": 34,
   "metadata": {},
   "outputs": [
    {
     "data": {
      "image/png": "[encoded data removed]",
      "text/plain": [
       "<Figure size 576x432 with 1 Axes>"
      ]
     },
     "metadata": {},
     "output_type": "display_data"
    }
   ],
   "source": [
    "fig2, ax2 = plt.subplots(figsize=(8,6))\n",
    "fig2 = sm.graphics.influence_plot(results, ax=ax2,criterion=\"DFFITS\",alpha=0.05)"
   ]
  },
  {
   "cell_type": "code",
   "execution_count": 35,
   "metadata": {},
   "outputs": [
    {
     "data": {
      "image/png": "[encoded data removed]",
      "text/plain": [
       "<Figure size 576x432 with 1 Axes>"
      ]
     },
     "metadata": {},
     "output_type": "display_data"
    }
   ],
   "source": [
    "fig, ax = plt.subplots(figsize=(8,6))\n",
    "fig = sm.graphics.plot_leverage_resid2(results, ax=ax)"
   ]
  },
  {
   "cell_type": "code",
   "execution_count": 36,
   "metadata": {
    "collapsed": true
   },
   "outputs": [],
   "source": [
    "prestige = sm.datasets.get_rdataset(\"Duncan\", \"carData\", cache=True).data\n",
    "\n",
    "prestige_model = smf.ols(\"prestige ~ income + education\", data=prestige).fit()"
   ]
  },
  {
   "cell_type": "code",
   "execution_count": 37,
   "metadata": {},
   "outputs": [
    {
     "data": {
      "image/png": "[encoded data removed]",
      "text/plain": [
       "<Figure size 864x576 with 1 Axes>"
      ]
     },
     "metadata": {},
     "output_type": "display_data"
    }
   ],
   "source": [
    "fig, ax = plt.subplots(figsize=(12,8))\n",
    "fig = sm.graphics.influence_plot(prestige_model, ax=ax, criterion=\"cooks\")\n"
   ]
  },
  {
   "cell_type": "code",
   "execution_count": null,
   "metadata": {
    "collapsed": true
   },
   "outputs": [],
   "source": []
  }
 ],
 "metadata": {
  "kernelspec": {
   "display_name": "Python 3",
   "language": "python",
   "name": "python3"
  },
  "language_info": {
   "codemirror_mode": {
    "name": "ipython",
    "version": 3
   },
   "file_extension": ".py",
   "mimetype": "text/x-python",
   "name": "python",
   "nbconvert_exporter": "python",
   "pygments_lexer": "ipython3",
   "version": "3.6.7"
  }
 },
 "nbformat": 4,
 "nbformat_minor": 2
}
