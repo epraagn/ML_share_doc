{
 "cells": [
  {
   "cell_type": "code",
   "execution_count": 1,
   "metadata": {},
   "outputs": [
    {
     "name": "stderr",
     "output_type": "stream",
     "text": [
      "Using TensorFlow backend.\n"
     ]
    }
   ],
   "source": [
    "from keras import backend as K\n",
    "from keras.models import Sequential\n",
    "from keras.layers.convolutional import Conv2D\n",
    "from keras.layers.convolutional import MaxPooling2D\n",
    "from keras.layers.core import Activation\n",
    "from keras.layers.core import Flatten\n",
    "from keras.layers.core import Dense\n",
    "from keras.datasets import mnist\n",
    "from keras.utils import np_utils\n",
    "from keras.optimizers import SGD, RMSprop, Adam\n",
    "import numpy as np\n"
   ]
  },
  {
   "cell_type": "code",
   "execution_count": 2,
   "metadata": {},
   "outputs": [],
   "source": [
    "# network and training\n",
    "NB_EPOCH = 20\n",
    "BATCH_SIZE = 128\n",
    "VERBOSE = 1\n",
    "OPTIMIZER = Adam()\n",
    "VALIDATION_SPLIT=0.2\n",
    "\n",
    "IMG_ROWS, IMG_COLS = 28, 28 # input image dimensions\n",
    "NB_CLASSES = 10  # number of outputs = number of digits\n",
    "INPUT_SHAPE = (1, IMG_ROWS, IMG_COLS)"
   ]
  },
  {
   "cell_type": "code",
   "execution_count": 3,
   "metadata": {},
   "outputs": [],
   "source": [
    "(X_train, y_train), (X_test, y_test) = mnist.load_data()\n",
    "\n",
    "K.set_image_dim_ordering(\"th\")\n",
    "#(depth, input_depth, rows, cols)\n",
    "X_train = X_train.astype('float32')\n",
    "X_test = X_test.astype('float32')\n",
    "X_train /= 255 \n",
    "X_test /= 255  "
   ]
  },
  {
   "cell_type": "code",
   "execution_count": 4,
   "metadata": {},
   "outputs": [
    {
     "name": "stdout",
     "output_type": "stream",
     "text": [
      "60000 train samples\n",
      "10000 test samples\n"
     ]
    }
   ],
   "source": [
    "X_train = X_train[:, np.newaxis, :, :]\n",
    "X_test = X_test[:, np.newaxis, :, :]\n",
    "\n",
    "print(X_train.shape[0], 'train samples')\n",
    "print(X_test.shape[0], 'test samples')\n"
   ]
  },
  {
   "cell_type": "code",
   "execution_count": 5,
   "metadata": {},
   "outputs": [
    {
     "name": "stdout",
     "output_type": "stream",
     "text": [
      "(60000, 1, 28, 28)\n"
     ]
    }
   ],
   "source": [
    "print(X_train.shape)"
   ]
  },
  {
   "cell_type": "code",
   "execution_count": 6,
   "metadata": {},
   "outputs": [],
   "source": [
    "y_train = np_utils.to_categorical(y_train, NB_CLASSES)\n",
    "y_test = np_utils.to_categorical(y_test, NB_CLASSES)\n"
   ]
  },
  {
   "cell_type": "code",
   "execution_count": 7,
   "metadata": {},
   "outputs": [],
   "source": [
    "model = Sequential()\n",
    "# CONV => RELU => POOL\n",
    "model.add(Conv2D(20, kernel_size=5, padding=\"same\",input_shape=INPUT_SHAPE))\n",
    "\n",
    "model.add(Activation(\"relu\"))\n",
    "\n",
    "model.add(MaxPooling2D(pool_size=(2, 2), strides=(2, 2)))"
   ]
  },
  {
   "cell_type": "code",
   "execution_count": 8,
   "metadata": {},
   "outputs": [],
   "source": [
    "model.add(Conv2D(50, kernel_size=5, padding=\"same\"))\n",
    "model.add(Activation(\"relu\"))\n",
    "model.add(MaxPooling2D(pool_size=(2, 2), strides=(2, 2)))\n"
   ]
  },
  {
   "cell_type": "code",
   "execution_count": 9,
   "metadata": {},
   "outputs": [],
   "source": [
    "model.add(Flatten())\n",
    "model.add(Dense(500))\n",
    "model.add(Activation(\"relu\"))"
   ]
  },
  {
   "cell_type": "code",
   "execution_count": 10,
   "metadata": {},
   "outputs": [],
   "source": [
    "model.add(Dense(NB_CLASSES))\n",
    "model.add(Activation(\"softmax\"))\n"
   ]
  },
  {
   "cell_type": "code",
   "execution_count": 12,
   "metadata": {},
   "outputs": [
    {
     "name": "stdout",
     "output_type": "stream",
     "text": [
      "_________________________________________________________________\n",
      "Layer (type)                 Output Shape              Param #   \n",
      "=================================================================\n",
      "conv2d_1 (Conv2D)            (None, 20, 28, 28)        520       \n",
      "_________________________________________________________________\n",
      "activation_1 (Activation)    (None, 20, 28, 28)        0         \n",
      "_________________________________________________________________\n",
      "max_pooling2d_1 (MaxPooling2 (None, 20, 14, 14)        0         \n",
      "_________________________________________________________________\n",
      "conv2d_2 (Conv2D)            (None, 50, 14, 14)        25050     \n",
      "_________________________________________________________________\n",
      "activation_2 (Activation)    (None, 50, 14, 14)        0         \n",
      "_________________________________________________________________\n",
      "max_pooling2d_2 (MaxPooling2 (None, 50, 7, 7)          0         \n",
      "_________________________________________________________________\n",
      "flatten_1 (Flatten)          (None, 2450)              0         \n",
      "_________________________________________________________________\n",
      "dense_1 (Dense)              (None, 500)               1225500   \n",
      "_________________________________________________________________\n",
      "activation_3 (Activation)    (None, 500)               0         \n",
      "_________________________________________________________________\n",
      "dense_2 (Dense)              (None, 10)                5010      \n",
      "_________________________________________________________________\n",
      "activation_4 (Activation)    (None, 10)                0         \n",
      "=================================================================\n",
      "Total params: 1,256,080\n",
      "Trainable params: 1,256,080\n",
      "Non-trainable params: 0\n",
      "_________________________________________________________________\n"
     ]
    }
   ],
   "source": [
    "model.summary()"
   ]
  },
  {
   "cell_type": "code",
   "execution_count": 18,
   "metadata": {},
   "outputs": [],
   "source": [
    "model.compile(loss=\"categorical_crossentropy\", optimizer=OPTIMIZER,metrics=[\"accuracy\"])"
   ]
  },
  {
   "cell_type": "code",
   "execution_count": 19,
   "metadata": {},
   "outputs": [
    {
     "name": "stdout",
     "output_type": "stream",
     "text": [
      "Train on 48000 samples, validate on 12000 samples\n",
      "Epoch 1/20\n",
      "48000/48000 [==============================] - 292s 6ms/step - loss: 0.1850 - acc: 0.9432 - val_loss: 0.0645 - val_acc: 0.9800\n",
      "Epoch 2/20\n",
      "48000/48000 [==============================] - 289s 6ms/step - loss: 0.0465 - acc: 0.9858 - val_loss: 0.0458 - val_acc: 0.9853\n",
      "Epoch 3/20\n",
      "48000/48000 [==============================] - 300s 6ms/step - loss: 0.0312 - acc: 0.9906 - val_loss: 0.0390 - val_acc: 0.9883\n",
      "Epoch 4/20\n",
      "48000/48000 [==============================] - 310s 6ms/step - loss: 0.0232 - acc: 0.9924 - val_loss: 0.0340 - val_acc: 0.9887\n",
      "Epoch 5/20\n",
      "48000/48000 [==============================] - 308s 6ms/step - loss: 0.0166 - acc: 0.9946 - val_loss: 0.0490 - val_acc: 0.9865\n",
      "Epoch 6/20\n",
      "48000/48000 [==============================] - 305s 6ms/step - loss: 0.0136 - acc: 0.9954 - val_loss: 0.0334 - val_acc: 0.9908\n",
      "Epoch 7/20\n",
      "48000/48000 [==============================] - 279s 6ms/step - loss: 0.0103 - acc: 0.9967 - val_loss: 0.0334 - val_acc: 0.9902\n",
      "Epoch 8/20\n",
      "48000/48000 [==============================] - 283s 6ms/step - loss: 0.0097 - acc: 0.9967 - val_loss: 0.0516 - val_acc: 0.9875\n",
      "Epoch 9/20\n",
      "48000/48000 [==============================] - 283s 6ms/step - loss: 0.0065 - acc: 0.9980 - val_loss: 0.0435 - val_acc: 0.9893\n",
      "Epoch 10/20\n",
      "48000/48000 [==============================] - 285s 6ms/step - loss: 0.0068 - acc: 0.9977 - val_loss: 0.0374 - val_acc: 0.9907\n",
      "Epoch 11/20\n",
      "48000/48000 [==============================] - 282s 6ms/step - loss: 0.0057 - acc: 0.9981 - val_loss: 0.0354 - val_acc: 0.9915\n",
      "Epoch 12/20\n",
      "48000/48000 [==============================] - 294s 6ms/step - loss: 0.0059 - acc: 0.9982 - val_loss: 0.0375 - val_acc: 0.9906\n",
      "Epoch 13/20\n",
      "48000/48000 [==============================] - 282s 6ms/step - loss: 0.0047 - acc: 0.9984 - val_loss: 0.0503 - val_acc: 0.9888\n",
      "Epoch 14/20\n",
      "48000/48000 [==============================] - 294s 6ms/step - loss: 0.0058 - acc: 0.9980 - val_loss: 0.0428 - val_acc: 0.9902\n",
      "Epoch 15/20\n",
      "48000/48000 [==============================] - 304s 6ms/step - loss: 0.0057 - acc: 0.9980 - val_loss: 0.0495 - val_acc: 0.9896\n",
      "Epoch 16/20\n",
      "48000/48000 [==============================] - 278s 6ms/step - loss: 0.0039 - acc: 0.9989 - val_loss: 0.0408 - val_acc: 0.9902\n",
      "Epoch 17/20\n",
      "48000/48000 [==============================] - 272s 6ms/step - loss: 0.0042 - acc: 0.9988 - val_loss: 0.0448 - val_acc: 0.9902\n",
      "Epoch 18/20\n",
      "48000/48000 [==============================] - 268s 6ms/step - loss: 0.0052 - acc: 0.9982 - val_loss: 0.0426 - val_acc: 0.9907\n",
      "Epoch 19/20\n",
      "48000/48000 [==============================] - 261s 5ms/step - loss: 0.0029 - acc: 0.9990 - val_loss: 0.0393 - val_acc: 0.9929\n",
      "Epoch 20/20\n",
      "48000/48000 [==============================] - 261s 5ms/step - loss: 0.0025 - acc: 0.9991 - val_loss: 0.0494 - val_acc: 0.9914\n"
     ]
    }
   ],
   "source": [
    "history = model.fit(X_train, y_train, batch_size=BATCH_SIZE, epochs=NB_EPOCH, \n",
    "                    verbose=VERBOSE, validation_split=VALIDATION_SPLIT)\n"
   ]
  },
  {
   "cell_type": "code",
   "execution_count": 20,
   "metadata": {},
   "outputs": [
    {
     "name": "stdout",
     "output_type": "stream",
     "text": [
      "10000/10000 [==============================] - 26s 3ms/step\n",
      "\n",
      "Test score: 0.9926\n"
     ]
    }
   ],
   "source": [
    "score = model.evaluate(X_test, y_test, verbose=VERBOSE)\n",
    "print(\"\\nTest score:\", score[1])"
   ]
  },
  {
   "cell_type": "code",
   "execution_count": 21,
   "metadata": {},
   "outputs": [],
   "source": [
    "import matplotlib.pyplot as plt"
   ]
  },
  {
   "cell_type": "code",
   "execution_count": 22,
   "metadata": {},
   "outputs": [
    {
     "data": {
      "image/png": "[encoded data removed]",
      "text/plain": [
       "<Figure size 432x288 with 1 Axes>"
      ]
     },
     "metadata": {
      "needs_background": "light"
     },
     "output_type": "display_data"
    },
    {
     "data": {
      "image/png": "[encoded data removed]",
      "text/plain": [
       "<Figure size 432x288 with 1 Axes>"
      ]
     },
     "metadata": {
      "needs_background": "light"
     },
     "output_type": "display_data"
    }
   ],
   "source": [
    "\n",
    "# summarize history for accuracy\n",
    "plt.plot(history.history['acc'])\n",
    "plt.plot(history.history['val_acc'])\n",
    "plt.title('model accuracy')\n",
    "plt.ylabel('accuracy')\n",
    "plt.xlabel('epoch')\n",
    "plt.legend(['train', 'test'], loc='upper left')\n",
    "plt.show()\n",
    "# summarize history for loss\n",
    "plt.plot(history.history['loss'])\n",
    "plt.plot(history.history['val_loss'])\n",
    "plt.title('model loss')\n",
    "plt.ylabel('loss')\n",
    "plt.xlabel('epoch')\n",
    "plt.legend(['train', 'test'], loc='upper left')\n",
    "plt.show()"
   ]
  },
  {
   "cell_type": "code",
   "execution_count": null,
   "metadata": {},
   "outputs": [],
   "source": []
  }
 ],
 "metadata": {
  "kernelspec": {
   "display_name": "Python 3",
   "language": "python",
   "name": "python3"
  },
  "language_info": {
   "codemirror_mode": {
    "name": "ipython",
    "version": 3
   },
   "file_extension": ".py",
   "mimetype": "text/x-python",
   "name": "python",
   "nbconvert_exporter": "python",
   "pygments_lexer": "ipython3",
   "version": "3.6.8"
  }
 },
 "nbformat": 4,
 "nbformat_minor": 2
}
