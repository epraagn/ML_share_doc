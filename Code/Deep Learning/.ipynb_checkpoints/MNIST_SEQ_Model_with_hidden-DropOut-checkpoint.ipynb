{
 "cells": [
  {
   "cell_type": "code",
   "execution_count": 11,
   "metadata": {},
   "outputs": [],
   "source": [
    "from __future__ import print_function\n",
    "import numpy as np\n",
    "from keras.datasets import mnist\n",
    "from keras.models import Sequential\n",
    "from keras.layers.core import Dense, Activation,Dropout\n",
    "from keras.optimizers import SGD\n",
    "from keras.utils import np_utils\n",
    "\n"
   ]
  },
  {
   "cell_type": "code",
   "execution_count": 12,
   "metadata": {},
   "outputs": [],
   "source": [
    "\n",
    "np.random.seed(1671)  # for reproducibility\n",
    "\n",
    "# network and training\n",
    "NB_EPOCH = 20\n",
    "BATCH_SIZE = 128\n",
    "VERBOSE = 1\n",
    "NB_CLASSES = 10   # number of outputs = number of digits\n",
    "OPTIMIZER = SGD() # SGD optimizer, explained later in this chapter\n",
    "N_HIDDEN = 128\n",
    "VALIDATION_SPLIT=0.2 # how much TRAIN is reserved for VALIDATION\n",
    "\n"
   ]
  },
  {
   "cell_type": "markdown",
   "metadata": {},
   "source": [
    "# Downloading online data ( images matrix )"
   ]
  },
  {
   "cell_type": "code",
   "execution_count": 13,
   "metadata": {},
   "outputs": [],
   "source": [
    "# data: shuffled and split between train and test sets\n",
    "#\n",
    "(X_train, y_train), (X_test, y_test) = mnist.load_data()\n",
    "\n"
   ]
  },
  {
   "cell_type": "code",
   "execution_count": 14,
   "metadata": {},
   "outputs": [
    {
     "data": {
      "text/plain": [
       "(60000, 28, 28)"
      ]
     },
     "execution_count": 14,
     "metadata": {},
     "output_type": "execute_result"
    }
   ],
   "source": [
    "X_train.shape"
   ]
  },
  {
   "cell_type": "code",
   "execution_count": 15,
   "metadata": {},
   "outputs": [],
   "source": [
    "#X_train is 60000 rows of 28x28 values --> reshaped in 60000 x 784\n",
    "RESHAPED = 784\n",
    "#\n",
    "X_train = X_train.reshape(60000, RESHAPED)\n",
    "X_test = X_test.reshape(10000, RESHAPED)\n",
    "X_train = X_train.astype('float32')\n",
    "X_test = X_test.astype('float32')\n",
    "\n"
   ]
  },
  {
   "cell_type": "code",
   "execution_count": 16,
   "metadata": {},
   "outputs": [
    {
     "name": "stdout",
     "output_type": "stream",
     "text": [
      "60000 train samples\n",
      "10000 test samples\n"
     ]
    }
   ],
   "source": [
    "\n",
    "# normalize \n",
    "#\n",
    "X_train /= 255\n",
    "X_test /= 255\n",
    "print(X_train.shape[0], 'train samples')\n",
    "print(X_test.shape[0], 'test samples')\n",
    "\n"
   ]
  },
  {
   "cell_type": "code",
   "execution_count": 17,
   "metadata": {},
   "outputs": [
    {
     "name": "stdout",
     "output_type": "stream",
     "text": [
      "[5 0 4 ... 5 6 8]\n"
     ]
    }
   ],
   "source": [
    "print(y_train)"
   ]
  },
  {
   "cell_type": "markdown",
   "metadata": {},
   "source": [
    "# ONE HOT ENCODING"
   ]
  },
  {
   "cell_type": "code",
   "execution_count": 18,
   "metadata": {},
   "outputs": [],
   "source": [
    "# convert class vectors to binary class matrices\n",
    "Y_train = np_utils.to_categorical(y_train, NB_CLASSES)\n",
    "Y_test = np_utils.to_categorical(y_test, NB_CLASSES)\n",
    "\n"
   ]
  },
  {
   "cell_type": "code",
   "execution_count": 19,
   "metadata": {},
   "outputs": [
    {
     "name": "stdout",
     "output_type": "stream",
     "text": [
      "[[0. 0. 0. ... 0. 0. 0.]\n",
      " [1. 0. 0. ... 0. 0. 0.]\n",
      " [0. 0. 0. ... 0. 0. 0.]\n",
      " ...\n",
      " [0. 0. 0. ... 0. 0. 0.]\n",
      " [0. 0. 0. ... 0. 0. 0.]\n",
      " [0. 0. 0. ... 0. 1. 0.]]\n"
     ]
    }
   ],
   "source": [
    "print(Y_train)"
   ]
  },
  {
   "cell_type": "markdown",
   "metadata": {},
   "source": [
    "# DROPOUT\n",
    "Dropout, applied to a layer, consists of randomly dropping out\n",
    "(setting to zero) a number of output features of the layer during training. \n",
    "\n",
    "Let’s say a given layer would normally return a vector [0.2, 0.5, 1.3, 0.8, 1.1] for a given input\n",
    "sample during training. \n",
    "After applying dropout, this vector will have a few zero entries\n",
    "distributed at random: for example, [0, 0.5, 1.3, 0, 1.1]. \n",
    "\n",
    "The dropout rate is the fraction of the features that are zeroed out; it’s usually set between 0.2 and 0.5. \n",
    "\n",
    "At test time, no units are dropped out; instead, the layer’s output values are scaled down by a factor\n",
    "equal to the dropout rate, to balance for the fact that more units are active than at\n",
    "training time"
   ]
  },
  {
   "cell_type": "markdown",
   "metadata": {},
   "source": [
    "# DEFINING MODEL"
   ]
  },
  {
   "cell_type": "code",
   "execution_count": 24,
   "metadata": {},
   "outputs": [
    {
     "name": "stdout",
     "output_type": "stream",
     "text": [
      "_________________________________________________________________\n",
      "Layer (type)                 Output Shape              Param #   \n",
      "=================================================================\n",
      "dense_4 (Dense)              (None, 128)               100480    \n",
      "_________________________________________________________________\n",
      "activation_4 (Activation)    (None, 128)               0         \n",
      "_________________________________________________________________\n",
      "dropout_2 (Dropout)          (None, 128)               0         \n",
      "_________________________________________________________________\n",
      "dense_5 (Dense)              (None, 128)               16512     \n",
      "_________________________________________________________________\n",
      "activation_5 (Activation)    (None, 128)               0         \n",
      "_________________________________________________________________\n",
      "dropout_3 (Dropout)          (None, 128)               0         \n",
      "_________________________________________________________________\n",
      "dense_6 (Dense)              (None, 10)                1290      \n",
      "_________________________________________________________________\n",
      "activation_6 (Activation)    (None, 10)                0         \n",
      "=================================================================\n",
      "Total params: 118,282\n",
      "Trainable params: 118,282\n",
      "Non-trainable params: 0\n",
      "_________________________________________________________________\n"
     ]
    }
   ],
   "source": [
    "# 10 outputs\n",
    "# final stage is softmax\n",
    "\n",
    "model = Sequential()\n",
    "\n",
    "# Add an input layer \n",
    "model.add(Dense(N_HIDDEN, input_shape=(RESHAPED,)))\n",
    "model.add(Activation('relu'))\n",
    "model.add(Dropout(0.3))\n",
    "\n",
    "model.add(Dense(N_HIDDEN))\n",
    "model.add(Activation('relu'))\n",
    "model.add(Dropout(0.3))\n",
    "\n",
    "\n",
    "# Output layer\n",
    "model.add(Dense(NB_CLASSES))\n",
    "model.add(Activation('softmax'))\n",
    "\n",
    "model.summary()\n"
   ]
  },
  {
   "cell_type": "code",
   "execution_count": 25,
   "metadata": {},
   "outputs": [],
   "source": [
    "model.compile(loss='categorical_crossentropy',\n",
    "              optimizer=OPTIMIZER,\n",
    "              metrics=['categorical_accuracy'])\n",
    "\n"
   ]
  },
  {
   "cell_type": "markdown",
   "metadata": {},
   "source": [
    "# TRAINING MODEL"
   ]
  },
  {
   "cell_type": "code",
   "execution_count": 26,
   "metadata": {},
   "outputs": [
    {
     "name": "stdout",
     "output_type": "stream",
     "text": [
      "Train on 48000 samples, validate on 12000 samples\n",
      "Epoch 1/20\n",
      "48000/48000 [==============================] - 3s 57us/step - loss: 1.7465 - categorical_accuracy: 0.4476 - val_loss: 0.9260 - val_categorical_accuracy: 0.8138\n",
      "Epoch 2/20\n",
      "48000/48000 [==============================] - 2s 45us/step - loss: 0.9367 - categorical_accuracy: 0.7169 - val_loss: 0.5378 - val_categorical_accuracy: 0.8701\n",
      "Epoch 3/20\n",
      "48000/48000 [==============================] - 2s 44us/step - loss: 0.7002 - categorical_accuracy: 0.7884 - val_loss: 0.4287 - val_categorical_accuracy: 0.8882\n",
      "Epoch 4/20\n",
      "48000/48000 [==============================] - 2s 39us/step - loss: 0.5956 - categorical_accuracy: 0.8215 - val_loss: 0.3734 - val_categorical_accuracy: 0.8988\n",
      "Epoch 5/20\n",
      "48000/48000 [==============================] - 2s 39us/step - loss: 0.5376 - categorical_accuracy: 0.8380 - val_loss: 0.3425 - val_categorical_accuracy: 0.9049\n",
      "Epoch 6/20\n",
      "48000/48000 [==============================] - 2s 40us/step - loss: 0.4924 - categorical_accuracy: 0.8551 - val_loss: 0.3176 - val_categorical_accuracy: 0.9107\n",
      "Epoch 7/20\n",
      "48000/48000 [==============================] - 2s 41us/step - loss: 0.4619 - categorical_accuracy: 0.8643 - val_loss: 0.3002 - val_categorical_accuracy: 0.9144\n",
      "Epoch 8/20\n",
      "48000/48000 [==============================] - 2s 45us/step - loss: 0.4325 - categorical_accuracy: 0.8725 - val_loss: 0.2845 - val_categorical_accuracy: 0.9183\n",
      "Epoch 9/20\n",
      "48000/48000 [==============================] - 2s 44us/step - loss: 0.4146 - categorical_accuracy: 0.8789 - val_loss: 0.2733 - val_categorical_accuracy: 0.9208\n",
      "Epoch 10/20\n",
      "48000/48000 [==============================] - 2s 42us/step - loss: 0.3964 - categorical_accuracy: 0.8832 - val_loss: 0.2630 - val_categorical_accuracy: 0.9241\n",
      "Epoch 11/20\n",
      "48000/48000 [==============================] - 2s 42us/step - loss: 0.3817 - categorical_accuracy: 0.8882 - val_loss: 0.2530 - val_categorical_accuracy: 0.9273\n",
      "Epoch 12/20\n",
      "48000/48000 [==============================] - 2s 42us/step - loss: 0.3649 - categorical_accuracy: 0.8942 - val_loss: 0.2437 - val_categorical_accuracy: 0.9299\n",
      "Epoch 13/20\n",
      "48000/48000 [==============================] - 2s 42us/step - loss: 0.3553 - categorical_accuracy: 0.8963 - val_loss: 0.2364 - val_categorical_accuracy: 0.9319\n",
      "Epoch 14/20\n",
      "48000/48000 [==============================] - 2s 42us/step - loss: 0.3428 - categorical_accuracy: 0.8994 - val_loss: 0.2289 - val_categorical_accuracy: 0.9340\n",
      "Epoch 15/20\n",
      "48000/48000 [==============================] - 2s 42us/step - loss: 0.3331 - categorical_accuracy: 0.9020 - val_loss: 0.2233 - val_categorical_accuracy: 0.9357\n",
      "Epoch 16/20\n",
      "48000/48000 [==============================] - 2s 42us/step - loss: 0.3209 - categorical_accuracy: 0.9062 - val_loss: 0.2179 - val_categorical_accuracy: 0.9373\n",
      "Epoch 17/20\n",
      "48000/48000 [==============================] - 2s 42us/step - loss: 0.3157 - categorical_accuracy: 0.9077 - val_loss: 0.2118 - val_categorical_accuracy: 0.9384\n",
      "Epoch 18/20\n",
      "48000/48000 [==============================] - 2s 48us/step - loss: 0.3057 - categorical_accuracy: 0.9101 - val_loss: 0.2062 - val_categorical_accuracy: 0.9406\n",
      "Epoch 19/20\n",
      "48000/48000 [==============================] - 2s 47us/step - loss: 0.3019 - categorical_accuracy: 0.9124 - val_loss: 0.2015 - val_categorical_accuracy: 0.9416\n",
      "Epoch 20/20\n",
      "48000/48000 [==============================] - 2s 44us/step - loss: 0.2932 - categorical_accuracy: 0.9134 - val_loss: 0.1974 - val_categorical_accuracy: 0.9432\n"
     ]
    }
   ],
   "source": [
    "history = model.fit(X_train, Y_train,\n",
    "                    batch_size=BATCH_SIZE, epochs=NB_EPOCH,\n",
    "                    verbose=VERBOSE, validation_split=VALIDATION_SPLIT)\n"
   ]
  },
  {
   "cell_type": "markdown",
   "metadata": {},
   "source": [
    "# Model Performance [ Accuracy ]"
   ]
  },
  {
   "cell_type": "code",
   "execution_count": 27,
   "metadata": {},
   "outputs": [
    {
     "name": "stdout",
     "output_type": "stream",
     "text": [
      "10000/10000 [==============================] - 0s 32us/step\n",
      "Test accuracy: 0.942\n"
     ]
    }
   ],
   "source": [
    "score = model.evaluate(X_test, Y_test, verbose=VERBOSE)\n",
    "#print(\"\\nTest score:\", score[0])\n",
    "print('Test accuracy:', score[1])"
   ]
  },
  {
   "cell_type": "code",
   "execution_count": null,
   "metadata": {},
   "outputs": [],
   "source": []
  }
 ],
 "metadata": {
  "kernelspec": {
   "display_name": "Python 3",
   "language": "python",
   "name": "python3"
  },
  "language_info": {
   "codemirror_mode": {
    "name": "ipython",
    "version": 3
   },
   "file_extension": ".py",
   "mimetype": "text/x-python",
   "name": "python",
   "nbconvert_exporter": "python",
   "pygments_lexer": "ipython3",
   "version": "3.6.8"
  }
 },
 "nbformat": 4,
 "nbformat_minor": 2
}
