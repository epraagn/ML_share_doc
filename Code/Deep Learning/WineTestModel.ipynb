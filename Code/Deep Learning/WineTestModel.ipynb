{
 "cells": [
  {
   "cell_type": "code",
   "execution_count": null,
   "metadata": {},
   "outputs": [],
   "source": [
    "# Import `Sequential` from `keras.models`\n",
    "from keras.models import Sequential\n",
    "\n",
    "# Import `Dense` from `keras.layers`\n",
    "from keras.layers import Dense"
   ]
  },
  {
   "cell_type": "code",
   "execution_count": 19,
   "metadata": {},
   "outputs": [],
   "source": [
    "# Import pandas \n",
    "import pandas as pd\n",
    "\n",
    "# Read in white wine data \n",
    "white = pd.read_csv(\"http://archive.ics.uci.edu/ml/machine-learning-databases/wine-quality/winequality-white.csv\", sep=';')\n",
    "#white\n",
    "# Read in red wine data \n",
    "red = pd.read_csv(\"http://archive.ics.uci.edu/ml/machine-learning-databases/wine-quality/winequality-red.csv\", sep=';')"
   ]
  },
  {
   "cell_type": "code",
   "execution_count": 20,
   "metadata": {},
   "outputs": [
    {
     "data": {
      "text/html": [
       "<div>\n",
       "<style scoped>\n",
       "    .dataframe tbody tr th:only-of-type {\n",
       "        vertical-align: middle;\n",
       "    }\n",
       "\n",
       "    .dataframe tbody tr th {\n",
       "        vertical-align: top;\n",
       "    }\n",
       "\n",
       "    .dataframe thead th {\n",
       "        text-align: right;\n",
       "    }\n",
       "</style>\n",
       "<table border=\"1\" class=\"dataframe\">\n",
       "  <thead>\n",
       "    <tr style=\"text-align: right;\">\n",
       "      <th></th>\n",
       "      <th>fixed acidity</th>\n",
       "      <th>volatile acidity</th>\n",
       "      <th>citric acid</th>\n",
       "      <th>residual sugar</th>\n",
       "      <th>chlorides</th>\n",
       "      <th>free sulfur dioxide</th>\n",
       "      <th>total sulfur dioxide</th>\n",
       "      <th>density</th>\n",
       "      <th>pH</th>\n",
       "      <th>sulphates</th>\n",
       "      <th>alcohol</th>\n",
       "      <th>quality</th>\n",
       "    </tr>\n",
       "  </thead>\n",
       "  <tbody>\n",
       "    <tr>\n",
       "      <th>count</th>\n",
       "      <td>4898.000000</td>\n",
       "      <td>4898.000000</td>\n",
       "      <td>4898.000000</td>\n",
       "      <td>4898.000000</td>\n",
       "      <td>4898.000000</td>\n",
       "      <td>4898.000000</td>\n",
       "      <td>4898.000000</td>\n",
       "      <td>4898.000000</td>\n",
       "      <td>4898.000000</td>\n",
       "      <td>4898.000000</td>\n",
       "      <td>4898.000000</td>\n",
       "      <td>4898.000000</td>\n",
       "    </tr>\n",
       "    <tr>\n",
       "      <th>mean</th>\n",
       "      <td>6.854788</td>\n",
       "      <td>0.278241</td>\n",
       "      <td>0.334192</td>\n",
       "      <td>6.391415</td>\n",
       "      <td>0.045772</td>\n",
       "      <td>35.308085</td>\n",
       "      <td>138.360657</td>\n",
       "      <td>0.994027</td>\n",
       "      <td>3.188267</td>\n",
       "      <td>0.489847</td>\n",
       "      <td>10.514267</td>\n",
       "      <td>5.877909</td>\n",
       "    </tr>\n",
       "    <tr>\n",
       "      <th>std</th>\n",
       "      <td>0.843868</td>\n",
       "      <td>0.100795</td>\n",
       "      <td>0.121020</td>\n",
       "      <td>5.072058</td>\n",
       "      <td>0.021848</td>\n",
       "      <td>17.007137</td>\n",
       "      <td>42.498065</td>\n",
       "      <td>0.002991</td>\n",
       "      <td>0.151001</td>\n",
       "      <td>0.114126</td>\n",
       "      <td>1.230621</td>\n",
       "      <td>0.885639</td>\n",
       "    </tr>\n",
       "    <tr>\n",
       "      <th>min</th>\n",
       "      <td>3.800000</td>\n",
       "      <td>0.080000</td>\n",
       "      <td>0.000000</td>\n",
       "      <td>0.600000</td>\n",
       "      <td>0.009000</td>\n",
       "      <td>2.000000</td>\n",
       "      <td>9.000000</td>\n",
       "      <td>0.987110</td>\n",
       "      <td>2.720000</td>\n",
       "      <td>0.220000</td>\n",
       "      <td>8.000000</td>\n",
       "      <td>3.000000</td>\n",
       "    </tr>\n",
       "    <tr>\n",
       "      <th>25%</th>\n",
       "      <td>6.300000</td>\n",
       "      <td>0.210000</td>\n",
       "      <td>0.270000</td>\n",
       "      <td>1.700000</td>\n",
       "      <td>0.036000</td>\n",
       "      <td>23.000000</td>\n",
       "      <td>108.000000</td>\n",
       "      <td>0.991723</td>\n",
       "      <td>3.090000</td>\n",
       "      <td>0.410000</td>\n",
       "      <td>9.500000</td>\n",
       "      <td>5.000000</td>\n",
       "    </tr>\n",
       "    <tr>\n",
       "      <th>50%</th>\n",
       "      <td>6.800000</td>\n",
       "      <td>0.260000</td>\n",
       "      <td>0.320000</td>\n",
       "      <td>5.200000</td>\n",
       "      <td>0.043000</td>\n",
       "      <td>34.000000</td>\n",
       "      <td>134.000000</td>\n",
       "      <td>0.993740</td>\n",
       "      <td>3.180000</td>\n",
       "      <td>0.470000</td>\n",
       "      <td>10.400000</td>\n",
       "      <td>6.000000</td>\n",
       "    </tr>\n",
       "    <tr>\n",
       "      <th>75%</th>\n",
       "      <td>7.300000</td>\n",
       "      <td>0.320000</td>\n",
       "      <td>0.390000</td>\n",
       "      <td>9.900000</td>\n",
       "      <td>0.050000</td>\n",
       "      <td>46.000000</td>\n",
       "      <td>167.000000</td>\n",
       "      <td>0.996100</td>\n",
       "      <td>3.280000</td>\n",
       "      <td>0.550000</td>\n",
       "      <td>11.400000</td>\n",
       "      <td>6.000000</td>\n",
       "    </tr>\n",
       "    <tr>\n",
       "      <th>max</th>\n",
       "      <td>14.200000</td>\n",
       "      <td>1.100000</td>\n",
       "      <td>1.660000</td>\n",
       "      <td>65.800000</td>\n",
       "      <td>0.346000</td>\n",
       "      <td>289.000000</td>\n",
       "      <td>440.000000</td>\n",
       "      <td>1.038980</td>\n",
       "      <td>3.820000</td>\n",
       "      <td>1.080000</td>\n",
       "      <td>14.200000</td>\n",
       "      <td>9.000000</td>\n",
       "    </tr>\n",
       "  </tbody>\n",
       "</table>\n",
       "</div>"
      ],
      "text/plain": [
       "       fixed acidity  volatile acidity  citric acid  residual sugar  \\\n",
       "count    4898.000000       4898.000000  4898.000000     4898.000000   \n",
       "mean        6.854788          0.278241     0.334192        6.391415   \n",
       "std         0.843868          0.100795     0.121020        5.072058   \n",
       "min         3.800000          0.080000     0.000000        0.600000   \n",
       "25%         6.300000          0.210000     0.270000        1.700000   \n",
       "50%         6.800000          0.260000     0.320000        5.200000   \n",
       "75%         7.300000          0.320000     0.390000        9.900000   \n",
       "max        14.200000          1.100000     1.660000       65.800000   \n",
       "\n",
       "         chlorides  free sulfur dioxide  total sulfur dioxide      density  \\\n",
       "count  4898.000000          4898.000000           4898.000000  4898.000000   \n",
       "mean      0.045772            35.308085            138.360657     0.994027   \n",
       "std       0.021848            17.007137             42.498065     0.002991   \n",
       "min       0.009000             2.000000              9.000000     0.987110   \n",
       "25%       0.036000            23.000000            108.000000     0.991723   \n",
       "50%       0.043000            34.000000            134.000000     0.993740   \n",
       "75%       0.050000            46.000000            167.000000     0.996100   \n",
       "max       0.346000           289.000000            440.000000     1.038980   \n",
       "\n",
       "                pH    sulphates      alcohol      quality  \n",
       "count  4898.000000  4898.000000  4898.000000  4898.000000  \n",
       "mean      3.188267     0.489847    10.514267     5.877909  \n",
       "std       0.151001     0.114126     1.230621     0.885639  \n",
       "min       2.720000     0.220000     8.000000     3.000000  \n",
       "25%       3.090000     0.410000     9.500000     5.000000  \n",
       "50%       3.180000     0.470000    10.400000     6.000000  \n",
       "75%       3.280000     0.550000    11.400000     6.000000  \n",
       "max       3.820000     1.080000    14.200000     9.000000  "
      ]
     },
     "execution_count": 20,
     "metadata": {},
     "output_type": "execute_result"
    }
   ],
   "source": [
    "white.describe()"
   ]
  },
  {
   "cell_type": "code",
   "execution_count": 21,
   "metadata": {},
   "outputs": [],
   "source": [
    "# Add `type` column to `red` with value 1\n",
    "red['type'] = 1\n",
    "\n",
    "# Add `type` column to `white` with value 0\n",
    "white['type'] = 0\n",
    "\n",
    "# Append `white` to `red`\n",
    "wines = red.append(white, ignore_index=True)"
   ]
  },
  {
   "cell_type": "code",
   "execution_count": 34,
   "metadata": {},
   "outputs": [],
   "source": [
    "wines.to_csv('WineFullData.csv')"
   ]
  },
  {
   "cell_type": "code",
   "execution_count": 35,
   "metadata": {},
   "outputs": [
    {
     "name": "stdout",
     "output_type": "stream",
     "text": [
      "<class 'pandas.core.frame.DataFrame'>\n",
      "RangeIndex: 6497 entries, 0 to 6496\n",
      "Data columns (total 13 columns):\n",
      "fixed acidity           6497 non-null float64\n",
      "volatile acidity        6497 non-null float64\n",
      "citric acid             6497 non-null float64\n",
      "residual sugar          6497 non-null float64\n",
      "chlorides               6497 non-null float64\n",
      "free sulfur dioxide     6497 non-null float64\n",
      "total sulfur dioxide    6497 non-null float64\n",
      "density                 6497 non-null float64\n",
      "pH                      6497 non-null float64\n",
      "sulphates               6497 non-null float64\n",
      "alcohol                 6497 non-null float64\n",
      "quality                 6497 non-null int64\n",
      "type                    6497 non-null int64\n",
      "dtypes: float64(11), int64(2)\n",
      "memory usage: 659.9 KB\n"
     ]
    }
   ],
   "source": [
    "wines.info()"
   ]
  },
  {
   "cell_type": "code",
   "execution_count": 22,
   "metadata": {},
   "outputs": [
    {
     "name": "stderr",
     "output_type": "stream",
     "text": [
      "/Users/rajnishechauhan/anaconda/envs/dl_env/lib/python3.6/site-packages/ipykernel_launcher.py:6: DeprecationWarning: \n",
      ".ix is deprecated. Please use\n",
      ".loc for label based indexing or\n",
      ".iloc for positional indexing\n",
      "\n",
      "See the documentation here:\n",
      "http://pandas.pydata.org/pandas-docs/stable/indexing.html#ix-indexer-is-deprecated\n",
      "  \n"
     ]
    }
   ],
   "source": [
    "# Import `train_test_split` from `sklearn.model_selection`\n",
    "from sklearn.model_selection import train_test_split\n",
    "import numpy as np\n",
    "\n",
    "# Specify the data \n",
    "X=wines.ix[:,0:11]\n",
    "\n",
    "# Specify the target labels and flatten the array \n",
    "y=np.ravel(wines.type)\n",
    "\n",
    "# Split the data up in train and test sets\n",
    "X_train, X_test, y_train, y_test = \n",
    "train_test_split(X, y, test_size=0.33, random_state=42)"
   ]
  },
  {
   "cell_type": "code",
   "execution_count": 36,
   "metadata": {},
   "outputs": [
    {
     "data": {
      "text/plain": [
       "(4352, 11)"
      ]
     },
     "execution_count": 36,
     "metadata": {},
     "output_type": "execute_result"
    }
   ],
   "source": [
    "X_train.shape"
   ]
  },
  {
   "cell_type": "code",
   "execution_count": 23,
   "metadata": {},
   "outputs": [],
   "source": [
    "# Import `StandardScaler` from `sklearn.preprocessing`\n",
    "from sklearn.preprocessing import StandardScaler\n",
    "\n",
    "# Define the scaler \n",
    "scaler = StandardScaler().fit(X_train)\n",
    "\n",
    "# Scale the train set\n",
    "X_train = scaler.transform(X_train)\n",
    "\n",
    "# Scale the test set\n",
    "X_test = scaler.transform(X_test)"
   ]
  },
  {
   "cell_type": "code",
   "execution_count": 24,
   "metadata": {},
   "outputs": [],
   "source": [
    "# Initialize the constructor\n",
    "model = Sequential()\n",
    "\n",
    "# Add an input layer \n",
    "model.add(Dense(12, activation='relu', input_shape=(11,)))\n",
    "\n",
    "# Add one hidden layer \n",
    "model.add(Dense(8, activation='relu'))\n",
    "\n",
    "# Add an output layer \n",
    "model.add(Dense(1, activation='sigmoid'))"
   ]
  },
  {
   "cell_type": "code",
   "execution_count": 25,
   "metadata": {},
   "outputs": [
    {
     "name": "stdout",
     "output_type": "stream",
     "text": [
      "_________________________________________________________________\n",
      "Layer (type)                 Output Shape              Param #   \n",
      "=================================================================\n",
      "dense_7 (Dense)              (None, 12)                144       \n",
      "_________________________________________________________________\n",
      "dense_8 (Dense)              (None, 8)                 104       \n",
      "_________________________________________________________________\n",
      "dense_9 (Dense)              (None, 1)                 9         \n",
      "=================================================================\n",
      "Total params: 257\n",
      "Trainable params: 257\n",
      "Non-trainable params: 0\n",
      "_________________________________________________________________\n"
     ]
    },
    {
     "data": {
      "text/plain": [
       "[array([[ 0.19017011,  0.1119678 , -0.448294  ,  0.37997532,  0.24701822,\n",
       "         -0.27561885, -0.24563742, -0.07929263, -0.02962729, -0.38604623,\n",
       "         -0.14888456, -0.4856225 ],\n",
       "        [-0.32617873,  0.18531877, -0.2563587 ,  0.21813202, -0.22807723,\n",
       "          0.12636203,  0.02936709,  0.43272775,  0.47795272, -0.22366709,\n",
       "         -0.25138232,  0.26065314],\n",
       "        [-0.41533962,  0.00593233,  0.4795336 , -0.21435156,  0.14838445,\n",
       "          0.05859399,  0.23748541, -0.08930764,  0.19966316,  0.1267944 ,\n",
       "          0.26688808,  0.06110191],\n",
       "        [ 0.07813603, -0.29873505,  0.08442503,  0.13383913, -0.48318666,\n",
       "         -0.41757926, -0.40140146, -0.15249258,  0.16900176,  0.48999423,\n",
       "          0.11969173, -0.42718816],\n",
       "        [ 0.16736794, -0.17194793, -0.19828784,  0.1860326 , -0.39993626,\n",
       "         -0.43237835,  0.07419568, -0.15438995, -0.18883899,  0.19858646,\n",
       "          0.3781548 ,  0.15258259],\n",
       "        [-0.42688164,  0.13265306, -0.50609255, -0.3857828 ,  0.0282588 ,\n",
       "          0.03393555,  0.1418888 , -0.05042714, -0.37065905, -0.10067347,\n",
       "         -0.1006597 ,  0.04455084],\n",
       "        [-0.36479372, -0.07397917,  0.21773869,  0.08445472,  0.45223725,\n",
       "          0.21272105,  0.20295191,  0.08137774,  0.3407244 ,  0.1534915 ,\n",
       "         -0.2380015 ,  0.15262008],\n",
       "        [-0.16155496, -0.37998712,  0.12814784, -0.287557  , -0.08502877,\n",
       "          0.5041588 ,  0.34135485, -0.3792654 ,  0.3699149 , -0.48092106,\n",
       "         -0.45476514, -0.29103386],\n",
       "        [-0.08995327,  0.00652146,  0.12838966, -0.10976565, -0.19434896,\n",
       "         -0.11724034,  0.07856214, -0.32251054, -0.25691497,  0.23569953,\n",
       "          0.186499  , -0.35338897],\n",
       "        [-0.12272039,  0.17575139, -0.18852845, -0.22574782, -0.2546597 ,\n",
       "          0.30162913,  0.00568914,  0.19008827,  0.320031  , -0.38451624,\n",
       "          0.21775353,  0.21263188],\n",
       "        [-0.17203864,  0.32136512, -0.08495206, -0.5021064 , -0.18793884,\n",
       "         -0.24559152,  0.15810668,  0.45020294,  0.2229802 ,  0.16452783,\n",
       "          0.26002955,  0.3394609 ]], dtype=float32),\n",
       " array([0., 0., 0., 0., 0., 0., 0., 0., 0., 0., 0., 0.], dtype=float32),\n",
       " array([[-0.50148594, -0.06033665, -0.35661614,  0.06270188,  0.54330146,\n",
       "          0.41987258, -0.08036116,  0.0187335 ],\n",
       "        [-0.48415715,  0.15326202,  0.12259257,  0.0366919 , -0.28906453,\n",
       "         -0.3273617 ,  0.16354185,  0.19978553],\n",
       "        [ 0.24282908,  0.41130555,  0.49237573, -0.3457177 ,  0.1718716 ,\n",
       "         -0.40571457,  0.10380054, -0.48596606],\n",
       "        [-0.3860262 , -0.02657461, -0.40111113,  0.5341561 ,  0.32814795,\n",
       "          0.44327605,  0.4816345 ,  0.28089696],\n",
       "        [ 0.37462318, -0.08416191,  0.06943548, -0.48653698, -0.37791097,\n",
       "          0.49285758, -0.22995603,  0.31396788],\n",
       "        [-0.29839104, -0.02623838,  0.50193834,  0.26127386, -0.1405145 ,\n",
       "         -0.31252986,  0.32269698,  0.4016422 ],\n",
       "        [ 0.10660696, -0.02047819,  0.24562782,  0.311507  ,  0.15834802,\n",
       "          0.34126705,  0.10370678,  0.44848996],\n",
       "        [-0.12675855, -0.3376943 ,  0.02178234,  0.1351322 , -0.21611378,\n",
       "          0.41928387, -0.01232469,  0.19976062],\n",
       "        [ 0.486753  ,  0.30291903,  0.39516598, -0.29955918,  0.54232085,\n",
       "         -0.53055465,  0.28852844,  0.50551414],\n",
       "        [ 0.3029526 ,  0.5259652 , -0.17681694, -0.4550908 ,  0.06638271,\n",
       "         -0.522719  ,  0.24653119, -0.52270573],\n",
       "        [ 0.5204433 , -0.4625131 ,  0.43108702,  0.04318571,  0.2966233 ,\n",
       "          0.0052309 ,  0.4375558 ,  0.39217973],\n",
       "        [ 0.16306835, -0.47208253, -0.20628253, -0.41879708,  0.42121983,\n",
       "          0.36985976, -0.5072724 , -0.51137453]], dtype=float32),\n",
       " array([0., 0., 0., 0., 0., 0., 0., 0.], dtype=float32),\n",
       " array([[ 0.7079005 ],\n",
       "        [ 0.3093891 ],\n",
       "        [ 0.8056686 ],\n",
       "        [-0.06689572],\n",
       "        [ 0.2700683 ],\n",
       "        [-0.5970587 ],\n",
       "        [-0.00752217],\n",
       "        [-0.80620605]], dtype=float32),\n",
       " array([0.], dtype=float32)]"
      ]
     },
     "execution_count": 25,
     "metadata": {},
     "output_type": "execute_result"
    }
   ],
   "source": [
    "# Model output shape\n",
    "model.output_shape\n",
    "\n",
    "# Model summary\n",
    "model.summary()\n",
    "\n",
    "# Model config\n",
    "model.get_config()\n",
    "\n",
    "# List all weight tensors \n",
    "model.get_weights()"
   ]
  },
  {
   "cell_type": "code",
   "execution_count": 26,
   "metadata": {},
   "outputs": [
    {
     "name": "stdout",
     "output_type": "stream",
     "text": [
      "Epoch 1/20\n",
      "4352/4352 [==============================] - 9s 2ms/step - loss: 0.1021 - binary_accuracy: 0.9584\n",
      "Epoch 2/20\n",
      "4352/4352 [==============================] - 8s 2ms/step - loss: 0.0256 - binary_accuracy: 0.9952\n",
      "Epoch 3/20\n",
      "4352/4352 [==============================] - 8s 2ms/step - loss: 0.0214 - binary_accuracy: 0.9963\n",
      "Epoch 4/20\n",
      "4352/4352 [==============================] - 10s 2ms/step - loss: 0.0180 - binary_accuracy: 0.9968\n",
      "Epoch 5/20\n",
      "4352/4352 [==============================] - 10s 2ms/step - loss: 0.0164 - binary_accuracy: 0.9968\n",
      "Epoch 6/20\n",
      "4352/4352 [==============================] - 10s 2ms/step - loss: 0.0141 - binary_accuracy: 0.9972\n",
      "Epoch 7/20\n",
      "4352/4352 [==============================] - 8s 2ms/step - loss: 0.0130 - binary_accuracy: 0.9968\n",
      "Epoch 8/20\n",
      "4352/4352 [==============================] - 9s 2ms/step - loss: 0.0118 - binary_accuracy: 0.9977\n",
      "Epoch 9/20\n",
      "4352/4352 [==============================] - 9s 2ms/step - loss: 0.0109 - binary_accuracy: 0.9979\n",
      "Epoch 10/20\n",
      "4352/4352 [==============================] - 9s 2ms/step - loss: 0.0111 - binary_accuracy: 0.9968\n",
      "Epoch 11/20\n",
      "4352/4352 [==============================] - 8s 2ms/step - loss: 0.0105 - binary_accuracy: 0.9975\n",
      "Epoch 12/20\n",
      "4352/4352 [==============================] - 8s 2ms/step - loss: 0.0109 - binary_accuracy: 0.9975A: 0s - loss: 0.0114 - binary_accurac\n",
      "Epoch 13/20\n",
      "4352/4352 [==============================] - 8s 2ms/step - loss: 0.0114 - binary_accuracy: 0.9972\n",
      "Epoch 14/20\n",
      "4352/4352 [==============================] - 8s 2ms/step - loss: 0.0090 - binary_accuracy: 0.9982\n",
      "Epoch 15/20\n",
      "4352/4352 [==============================] - 8s 2ms/step - loss: 0.0091 - binary_accuracy: 0.9977\n",
      "Epoch 16/20\n",
      "4352/4352 [==============================] - 8s 2ms/step - loss: 0.0092 - binary_accuracy: 0.9977\n",
      "Epoch 17/20\n",
      "4352/4352 [==============================] - 8s 2ms/step - loss: 0.0074 - binary_accuracy: 0.9982\n",
      "Epoch 18/20\n",
      "4352/4352 [==============================] - 8s 2ms/step - loss: 0.0083 - binary_accuracy: 0.9979\n",
      "Epoch 19/20\n",
      "4352/4352 [==============================] - 9s 2ms/step - loss: 0.0078 - binary_accuracy: 0.9979\n",
      "Epoch 20/20\n",
      "4352/4352 [==============================] - 10s 2ms/step - loss: 0.0072 - binary_accuracy: 0.9979\n"
     ]
    }
   ],
   "source": [
    "model.compile(loss='binary_crossentropy',\n",
    "              optimizer='adam',\n",
    "              metrics=['binary_accuracy'])\n",
    "                   \n",
    "history = model.fit(X_train, y_train,epochs=20, batch_size=1, verbose=1)"
   ]
  },
  {
   "cell_type": "code",
   "execution_count": 27,
   "metadata": {},
   "outputs": [
    {
     "name": "stdout",
     "output_type": "stream",
     "text": [
      "2145/2145 [==============================] - 1s 378us/step\n",
      "0.9939393939393939\n"
     ]
    }
   ],
   "source": [
    "score = model.evaluate(X_test, y_test, verbose=True)\n",
    "\n",
    "print(score[1])\n",
    "\n"
   ]
  },
  {
   "cell_type": "code",
   "execution_count": 28,
   "metadata": {},
   "outputs": [
    {
     "data": {
      "text/plain": [
       "array([0, 1, 0, 0, 0])"
      ]
     },
     "execution_count": 28,
     "metadata": {},
     "output_type": "execute_result"
    }
   ],
   "source": [
    "y_test[:5]"
   ]
  },
  {
   "cell_type": "code",
   "execution_count": 29,
   "metadata": {},
   "outputs": [
    {
     "name": "stdout",
     "output_type": "stream",
     "text": [
      "2145/2145 [==============================] - 0s 23us/step\n",
      "[0.029239490605004796, 0.9939393939393939]\n"
     ]
    }
   ],
   "source": [
    "score = model.evaluate(X_test, y_test,verbose=1)\n",
    "\n",
    "print(score)"
   ]
  },
  {
   "cell_type": "code",
   "execution_count": 31,
   "metadata": {},
   "outputs": [],
   "source": [
    "import matplotlib.pyplot as plt"
   ]
  },
  {
   "cell_type": "code",
   "execution_count": 33,
   "metadata": {},
   "outputs": [
    {
     "name": "stdout",
     "output_type": "stream",
     "text": [
      "dict_keys(['loss', 'binary_accuracy'])\n"
     ]
    },
    {
     "data": {
      "image/png": "[encoded data removed]",
      "text/plain": [
       "<Figure size 432x288 with 1 Axes>"
      ]
     },
     "metadata": {
      "needs_background": "light"
     },
     "output_type": "display_data"
    }
   ],
   "source": [
    "# list all data in history\n",
    "print(history.history.keys())\n",
    "# summarize history for accuracy\n",
    "plt.plot(history.history['binary_accuracy'])\n",
    "plt.plot(history.history['loss'])\n",
    "plt.title('model accuracy')\n",
    "plt.ylabel('accuracy')\n",
    "plt.xlabel('epoch')\n",
    "plt.legend(['train', 'test'], loc='upper left')\n",
    "plt.show()\n"
   ]
  },
  {
   "cell_type": "code",
   "execution_count": null,
   "metadata": {},
   "outputs": [],
   "source": []
  },
  {
   "cell_type": "code",
   "execution_count": null,
   "metadata": {},
   "outputs": [],
   "source": []
  },
  {
   "cell_type": "code",
   "execution_count": null,
   "metadata": {
    "collapsed": true
   },
   "outputs": [],
   "source": [
    "    "
   ]
  },
  {
   "cell_type": "code",
   "execution_count": null,
   "metadata": {
    "collapsed": true
   },
   "outputs": [],
   "source": []
  }
 ],
 "metadata": {
  "kernelspec": {
   "display_name": "Python 3",
   "language": "python",
   "name": "python3"
  },
  "language_info": {
   "codemirror_mode": {
    "name": "ipython",
    "version": 3
   },
   "file_extension": ".py",
   "mimetype": "text/x-python",
   "name": "python",
   "nbconvert_exporter": "python",
   "pygments_lexer": "ipython3",
   "version": "3.6.8"
  }
 },
 "nbformat": 4,
 "nbformat_minor": 2
}
