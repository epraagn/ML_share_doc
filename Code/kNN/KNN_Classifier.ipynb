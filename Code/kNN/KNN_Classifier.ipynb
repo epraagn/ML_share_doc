{
 "cells": [
  {
   "cell_type": "code",
   "execution_count": 23,
   "metadata": {
    "collapsed": true
   },
   "outputs": [],
   "source": [
    "from math import sqrt\n",
    "import numpy as np\n",
    "import pandas as pd\n",
    "import matplotlib.pyplot as plt\n",
    "import sys\n",
    "from time import time\n",
    "from sklearn.metrics import accuracy_score\n",
    "from sklearn import model_selection\n",
    "from sklearn.neighbors import KNeighborsClassifier"
   ]
  },
  {
   "cell_type": "code",
   "execution_count": 15,
   "metadata": {
    "collapsed": true
   },
   "outputs": [],
   "source": [
    "# Sample data\n",
    "\n",
    "users = {\"Gaurav\": {\"Bahubali2\": 3.5, \"Half-Girlfriend\": 2.0, \"Kaabil\": 4.5, \"Raees\": 5.0, \"Sultaan\": 1.5, \"Dangal\": 2.5, \"Piku\": 2.0},\n",
    "         \"Somendra\":{\"Bahubali\": 2.0, \"Half-Girlfriend\": 3.5, \"Sarkaar3\": 4.0, \"Raees\": 2.0, \"Sultaan\": 3.5, \"Piku\": 3.0},\n",
    "         \"Paras\": {\"Bahubali2\": 5.0, \"Half-Girlfriend\": 1.0, \"Sarkaar3\": 1.0, \"Kaabil\": 3.0, \"Raees\": 5, \"Sultaan\": 1.0},\n",
    "         \"Ram\": {\"Bahubali2\": 3.0, \"Half-Girlfriend\": 4.0, \"Sarkaar3\": 4.5, \"Raees\": 3.0, \"Sultaan\": 4.5, \"Dangal\": 4.0, \"Piku\": 2.0},\n",
    "         \"Tomar\": {\"Half-Girlfriend\": 4.0, \"Sarkaar3\": 1.0, \"Kaabil\": 4.0, \"Dangal\": 4.0, \"Piku\": 1.0},\n",
    "         \"Atul\":  {\"Half-Girlfriend\": 4.5, \"Sarkaar3\": 4.0, \"Kaabil\": 5.0, \"Raees\": 5.0, \"Sultaan\": 4.5, \"Dangal\": 4.0, \"Piku\": 4.0},\n",
    "         \"Sumit\": {\"Bahubali2\": 5.0, \"Half-Girlfriend\": 2.0, \"Kaabil\": 3.0, \"Raees\": 5.0, \"Sultaan\": 4.0, \"Dangal\": 5.0},\n",
    "         \"Diwakar\": {\"Bahubali2\": 3.0, \"Kaabil\": 5.0, \"Raees\": 4.0, \"Sultaan\": 2.5, \"Dangal\": 3.0}\n",
    "        }"
   ]
  },
  {
   "cell_type": "code",
   "execution_count": 16,
   "metadata": {},
   "outputs": [
    {
     "data": {
      "text/plain": [
       "{'Bahubali2': 3.5,\n",
       " 'Dangal': 2.5,\n",
       " 'Half-Girlfriend': 2.0,\n",
       " 'Kaabil': 4.5,\n",
       " 'Piku': 2.0,\n",
       " 'Raees': 5.0,\n",
       " 'Sultaan': 1.5}"
      ]
     },
     "execution_count": 16,
     "metadata": {},
     "output_type": "execute_result"
    }
   ],
   "source": [
    "# To check the rating of a user\n",
    "\n",
    "users[\"Gaurav\"]"
   ]
  },
  {
   "cell_type": "code",
   "execution_count": 17,
   "metadata": {
    "collapsed": true
   },
   "outputs": [],
   "source": [
    "def manhattan(rating1, rating2):\n",
    "    \"\"\"Computes the Manhattan distance. Both rating1 and rating2 are dictionaries\n",
    "       of the form {'Dangal': 3.0, 'Sultaan': 2.5}\"\"\"\n",
    "    distance = 0\n",
    "    commonRatings = False \n",
    "    for key in rating1:\n",
    "        if key in rating2:\n",
    "            distance += abs(rating1[key] - rating2[key])\n",
    "            commonRatings = True\n",
    "    if commonRatings:\n",
    "        return distance\n",
    "    else:\n",
    "        return -1"
   ]
  },
  {
   "cell_type": "code",
   "execution_count": 18,
   "metadata": {},
   "outputs": [
    {
     "data": {
      "text/plain": [
       "9.5"
      ]
     },
     "execution_count": 18,
     "metadata": {},
     "output_type": "execute_result"
    }
   ],
   "source": [
    "manhattan(users['Gaurav'], users['Atul'])"
   ]
  },
  {
   "cell_type": "code",
   "execution_count": 10,
   "metadata": {},
   "outputs": [
    {
     "data": {
      "text/plain": [
       "4.0"
      ]
     },
     "execution_count": 10,
     "metadata": {},
     "output_type": "execute_result"
    }
   ],
   "source": [
    "manhattan(users['Paras'], users['Sumit'])"
   ]
  },
  {
   "cell_type": "code",
   "execution_count": 19,
   "metadata": {
    "collapsed": true
   },
   "outputs": [],
   "source": [
    "# A function to find the closest person this returns a sorted list with \n",
    "  #the closest person first\n",
    "def computeNearestNeighbor(username, users):\n",
    "    \"\"\"creates a sorted list of users based on their distance to username\"\"\"\n",
    "    distances = []\n",
    "    for user in users:\n",
    "        if user != username:\n",
    "            distance = manhattan(users[user], users[username])\n",
    "            distances.append((distance, user))\n",
    "    # sort based on distance -- closest first\n",
    "    distances.sort()\n",
    "    return distances"
   ]
  },
  {
   "cell_type": "code",
   "execution_count": 20,
   "metadata": {},
   "outputs": [
    {
     "data": {
      "text/plain": [
       "[(4.0, 'Sumit'),\n",
       " (4.0, 'Tomar'),\n",
       " (4.5, 'Gaurav'),\n",
       " (6.5, 'Diwakar'),\n",
       " (11.0, 'Somendra'),\n",
       " (12.0, 'Atul'),\n",
       " (14.0, 'Ram')]"
      ]
     },
     "execution_count": 20,
     "metadata": {},
     "output_type": "execute_result"
    }
   ],
   "source": [
    "computeNearestNeighbor(\"Paras\", users)"
   ]
  },
  {
   "cell_type": "code",
   "execution_count": 21,
   "metadata": {
    "collapsed": true
   },
   "outputs": [],
   "source": [
    "def recommend(username, users):\n",
    "    \"\"\"Give list of recommendations\"\"\"\n",
    "    # first find nearest neighbor\n",
    "    nearest = computeNearestNeighbor(username, users)[0][1]\n",
    "\n",
    "    recommendations = []\n",
    "    # now find movies neighbor rated that user didn't\n",
    "    neighborRatings = users[nearest]\n",
    "    userRatings = users[username]\n",
    "    for artist in neighborRatings:\n",
    "        if not artist in userRatings:\n",
    "            recommendations.append((artist, neighborRatings[artist]))\n",
    "    # using the fn sorted for variety - sort is more efficient\n",
    "    return sorted(recommendations, key=lambda artistTuple: artistTuple[1], reverse = True)"
   ]
  },
  {
   "cell_type": "code",
   "execution_count": 22,
   "metadata": {},
   "outputs": [
    {
     "data": {
      "text/plain": [
       "[('Half-Girlfriend', 4.0), ('Piku', 1.0), ('Sarkaar3', 1.0)]"
      ]
     },
     "execution_count": 22,
     "metadata": {},
     "output_type": "execute_result"
    }
   ],
   "source": [
    "recommend('Diwakar', users)"
   ]
  },
  {
   "cell_type": "code",
   "execution_count": 23,
   "metadata": {},
   "outputs": [
    {
     "data": {
      "text/plain": [
       "[]"
      ]
     },
     "execution_count": 23,
     "metadata": {},
     "output_type": "execute_result"
    }
   ],
   "source": [
    "recommend('Gaurav', users)"
   ]
  },
  {
   "cell_type": "code",
   "execution_count": 24,
   "metadata": {},
   "outputs": [
    {
     "data": {
      "text/plain": [
       "[(3.5, 'Diwakar'),\n",
       " (4.5, 'Paras'),\n",
       " (5.0, 'Tomar'),\n",
       " (7.5, 'Somendra'),\n",
       " (8.0, 'Sumit'),\n",
       " (9.0, 'Ram'),\n",
       " (9.5, 'Atul')]"
      ]
     },
     "execution_count": 24,
     "metadata": {},
     "output_type": "execute_result"
    }
   ],
   "source": [
    "# It returned empty list for Gaurav\n",
    "\n",
    "computeNearestNeighbor('Gaurav', users)"
   ]
  },
  {
   "cell_type": "code",
   "execution_count": null,
   "metadata": {
    "collapsed": true
   },
   "outputs": [],
   "source": [
    "# Nearest person to Gaurav is Diwakar. the problem is that Gaurav and Diwakar\n",
    "# They both have rated common movies. No new movies. No recommendations"
   ]
  },
  {
   "cell_type": "code",
   "execution_count": 6,
   "metadata": {},
   "outputs": [],
   "source": [
    "# Iris Data Set\n",
    "\n",
    "url = \"https://archive.ics.uci.edu/ml/machine-learning-databases/iris/iris.data\"\n",
    "names = ['sepal-length', 'sepal-width', 'petal-length', 'petal-width', 'class']\n",
    "dataset = pd.read_csv(url, names=names)"
   ]
  },
  {
   "cell_type": "code",
   "execution_count": 20,
   "metadata": {},
   "outputs": [],
   "source": [
    "# Split the dataset into Training and Validation\n",
    "\n",
    "array = dataset.values\n",
    "X = np.array(dataset.ix[:, 0:4])\n",
    "Y = np.array(dataset['class'])\n",
    "validation_size = 0.20\n",
    "seed = 7\n",
    "X_train, X_validation, Y_train, Y_validation = model_selection.train_test_split(X, Y, test_size=validation_size, random_state=seed)"
   ]
  },
  {
   "cell_type": "code",
   "execution_count": 27,
   "metadata": {},
   "outputs": [
    {
     "name": "stdout",
     "output_type": "stream",
     "text": [
      "Training time: 0.004 s\n",
      "Prediction time: 0.004 s\n",
      "0.9\n"
     ]
    }
   ],
   "source": [
    "knn = KNeighborsClassifier(n_neighbors=3)\n",
    "t0 = time()\n",
    "knn.fit(X_train, Y_train)\n",
    "print(\"Training time:\", round(time()-t0, 3), \"s\")\n",
    "t1 = time()\n",
    "pred = knn.predict(X_validation)\n",
    "print(\"Prediction time:\", round(time()-t1, 3), \"s\")\n",
    "accuracy = accuracy_score(Y_validation, pred)\n",
    "print(accuracy)\n"
   ]
  },
  {
   "cell_type": "code",
   "execution_count": 29,
   "metadata": {},
   "outputs": [
    {
     "data": {
      "text/plain": [
       "array(['Iris-versicolor'], dtype=object)"
      ]
     },
     "execution_count": 29,
     "metadata": {},
     "output_type": "execute_result"
    }
   ],
   "source": [
    "knn.predict([[4.9, 2.5, 4.5, 1.7]])"
   ]
  },
  {
   "cell_type": "code",
   "execution_count": null,
   "metadata": {
    "collapsed": true
   },
   "outputs": [],
   "source": []
  }
 ],
 "metadata": {
  "kernelspec": {
   "display_name": "Python 3",
   "language": "python",
   "name": "python3"
  },
  "language_info": {
   "codemirror_mode": {
    "name": "ipython",
    "version": 3
   },
   "file_extension": ".py",
   "mimetype": "text/x-python",
   "name": "python",
   "nbconvert_exporter": "python",
   "pygments_lexer": "ipython3",
   "version": "3.6.7"
  }
 },
 "nbformat": 4,
 "nbformat_minor": 2
}
