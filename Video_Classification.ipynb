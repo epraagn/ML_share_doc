{
  "nbformat": 4,
  "nbformat_minor": 0,
  "metadata": {
    "colab": {
      "name": "Untitled2.ipynb",
      "version": "0.3.2",
      "provenance": [],
      "collapsed_sections": [],
      "include_colab_link": true
    },
    "kernelspec": {
      "name": "python3",
      "display_name": "Python 3"
    },
    "accelerator": "GPU"
  },
  "cells": [
    {
      "cell_type": "markdown",
      "metadata": {
        "id": "view-in-github",
        "colab_type": "text"
      },
      "source": [
        "<a href=\"https://colab.research.google.com/github/rajnishe/ML_share_doc/blob/master/Video_Classification.ipynb\" target=\"_parent\"><img src=\"https://colab.research.google.com/assets/colab-badge.svg\" alt=\"Open In Colab\"/></a>"
      ]
    },
    {
      "cell_type": "code",
      "metadata": {
        "id": "sEv8HGKfB-n9",
        "colab_type": "code",
        "colab": {}
      },
      "source": [
        "import os\n",
        "from sklearn.datasets import load_files\n",
        "from sklearn.model_selection import train_test_split\n",
        "import numpy as np\n",
        "import cv2\n",
        "import time\n",
        "import tensorflow as tf"
      ],
      "execution_count": 0,
      "outputs": []
    },
    {
      "cell_type": "code",
      "metadata": {
        "id": "M3dyJKPCCHze",
        "colab_type": "code",
        "outputId": "ba83fa60-0e7b-4f1d-fa63-2b15d912daf8",
        "colab": {
          "base_uri": "https://localhost:8080/",
          "height": 122
        }
      },
      "source": [
        "from google.colab import drive\n",
        "\n",
        "# This will prompt for authorization.\n",
        "drive.mount('/content/drive')"
      ],
      "execution_count": 0,
      "outputs": [
        {
          "output_type": "stream",
          "text": [
            "Go to this URL in a browser: https://accounts.google.com/o/oauth2/auth?client_id=947318989803-6bn6qk8qdgf4n4g3pfee6491hc0brc4i.apps.googleusercontent.com&redirect_uri=urn%3Aietf%3Awg%3Aoauth%3A2.0%3Aoob&scope=email%20https%3A%2F%2Fwww.googleapis.com%2Fauth%2Fdocs.test%20https%3A%2F%2Fwww.googleapis.com%2Fauth%2Fdrive%20https%3A%2F%2Fwww.googleapis.com%2Fauth%2Fdrive.photos.readonly%20https%3A%2F%2Fwww.googleapis.com%2Fauth%2Fpeopleapi.readonly&response_type=code\n",
            "\n",
            "Enter your authorization code:\n",
            "··········\n",
            "Mounted at /content/drive\n"
          ],
          "name": "stdout"
        }
      ]
    },
    {
      "cell_type": "code",
      "metadata": {
        "id": "qAND9kTgEtK5",
        "colab_type": "code",
        "colab": {}
      },
      "source": [
        "raw_data = load_files('/content/drive/My Drive/Colab Notebooks/Data_minor', shuffle=False)\n",
        "#raw_data = load_files('/content/drive/My Drive/Colab Notebooks/Data', shuffle=False)\n",
        "train = raw_data['filenames']\n",
        "target = raw_data['target']"
      ],
      "execution_count": 0,
      "outputs": []
    },
    {
      "cell_type": "code",
      "metadata": {
        "id": "EW6AjiYfE3JK",
        "colab_type": "code",
        "outputId": "1addcb04-dcd8-4230-d328-2c924386c1a7",
        "colab": {
          "base_uri": "https://localhost:8080/",
          "height": 54
        }
      },
      "source": [
        "'''\n",
        "# scikit-learn k-fold cross-validation\n",
        "from numpy import array\n",
        "from sklearn.model_selection import KFold\n",
        "# prepare cross validation\n",
        "kfold = KFold(5, True, 1)\n",
        "# enumerate splits\n",
        "for train, test in kfold.split(raw_data):\n",
        "\tprint('train: %s, test: %s' % (raw_data[train], raw_data[test]))'''"
      ],
      "execution_count": 0,
      "outputs": [
        {
          "output_type": "execute_result",
          "data": {
            "text/plain": [
              "\"\\n# scikit-learn k-fold cross-validation\\nfrom numpy import array\\nfrom sklearn.model_selection import KFold\\n# prepare cross validation\\nkfold = KFold(5, True, 1)\\n# enumerate splits\\nfor train, test in kfold.split(raw_data):\\n\\tprint('train: %s, test: %s' % (raw_data[train], raw_data[test]))\""
            ]
          },
          "metadata": {
            "tags": []
          },
          "execution_count": 5
        }
      ]
    },
    {
      "cell_type": "code",
      "metadata": {
        "id": "1NTPnhz-F118",
        "colab_type": "code",
        "outputId": "b1557cff-2ff2-4b8a-ab01-f8d84f20a732",
        "colab": {
          "base_uri": "https://localhost:8080/",
          "height": 68
        }
      },
      "source": [
        "print('Total number of videos:', len(train))\n",
        "print('\\nNumber of videos in training data:', train.shape[0])"
      ],
      "execution_count": 0,
      "outputs": [
        {
          "output_type": "stream",
          "text": [
            "Total number of videos: 598\n",
            "\n",
            "Number of videos in training data: 598\n"
          ],
          "name": "stdout"
        }
      ]
    },
    {
      "cell_type": "code",
      "metadata": {
        "id": "TtULzZstrUU4",
        "colab_type": "code",
        "outputId": "be5638a3-46b0-44e4-dfcb-2ffe530fb5ce",
        "colab": {
          "base_uri": "https://localhost:8080/",
          "height": 170
        }
      },
      "source": [
        "print('The categorical labels are converted into integers.\\nFollowing is the mapping - \\n')\n",
        "for label in zip(range(6), raw_data['target_names']):\n",
        "    print(label)\n"
      ],
      "execution_count": 0,
      "outputs": [
        {
          "output_type": "stream",
          "text": [
            "The categorical labels are converted into integers.\n",
            "Following is the mapping - \n",
            "\n",
            "(0, 'boxing')\n",
            "(1, 'handclapping')\n",
            "(2, 'handwaving')\n",
            "(3, 'jogging')\n",
            "(4, 'running')\n",
            "(5, 'walking')\n"
          ],
          "name": "stdout"
        }
      ]
    },
    {
      "cell_type": "code",
      "metadata": {
        "id": "N7sgY-PSsAbq",
        "colab_type": "code",
        "outputId": "e93e5046-b720-44df-e08e-542747ee3d66",
        "colab": {
          "base_uri": "https://localhost:8080/",
          "height": 102
        }
      },
      "source": [
        "for pair in zip(train[:5], target[:5]):\n",
        "    print(pair)"
      ],
      "execution_count": 0,
      "outputs": [
        {
          "output_type": "stream",
          "text": [
            "('/content/drive/My Drive/Colab Notebooks/Data_minor/boxing/person01_boxing_d1_uncomp.avi', 0)\n",
            "('/content/drive/My Drive/Colab Notebooks/Data_minor/boxing/person01_boxing_d2_uncomp.avi', 0)\n",
            "('/content/drive/My Drive/Colab Notebooks/Data_minor/boxing/person01_boxing_d3_uncomp.avi', 0)\n",
            "('/content/drive/My Drive/Colab Notebooks/Data_minor/boxing/person02_boxing_d1_uncomp.avi', 0)\n",
            "('/content/drive/My Drive/Colab Notebooks/Data_minor/boxing/person02_boxing_d2_uncomp.avi', 0)\n"
          ],
          "name": "stdout"
        }
      ]
    },
    {
      "cell_type": "code",
      "metadata": {
        "id": "6cHJGWwOsFA-",
        "colab_type": "code",
        "colab": {}
      },
      "source": [
        "class Videoto3D:\n",
        "\n",
        "    def __init__(self,n_channels, width, height, depth,n_videos):\n",
        "        self.width = width\n",
        "        self.height = height\n",
        "        self.depth = depth\n",
        "        self.n_channels=n_channels\n",
        "        self.n_videos=n_videos\n",
        "    \n",
        "    def video3d(self, filename, color=False, skip=True):\n",
        "        #filename of the corresponding video\n",
        "        \n",
        "        cap = cv2.VideoCapture(filename)\n",
        "        \n",
        "        \n",
        "        nframe = cap.get(cv2.CAP_PROP_FRAME_COUNT)\n",
        "        \n",
        "        if skip:\n",
        "            frames = [x * nframe / self.depth for x in range(1,(self.depth+1))]\n",
        "        else:\n",
        "            frames = [x for x in range(self.depth)]\n",
        "        \n",
        "        \n",
        "        frames=frames[(int(len(frames)/2)-5):(int(len(frames)/2)+5)]\n",
        "        \n",
        "        framearray = []\n",
        "\n",
        "        for i in range(len(frames)):\n",
        "            cap.set(cv2.CAP_PROP_POS_FRAMES, frames[i])\n",
        "            ret, frame = cap.read()\n",
        "            frame = cv2.resize(frame, (self.height, self.width))\n",
        "            #img = cv2.imread('messi5.jpg',0)\n",
        "            #frame = cv2.Canny(frame,224,224)\n",
        "            #if color:\n",
        "            #framearray.append(frame)\n",
        "              \n",
        "            #else:\n",
        "            \n",
        "            frame=cv2.cvtColor(frame, cv2.COLOR_RGB2GRAY)\n",
        "            framearray.append(cv2.cvtColor(frame,cv2.COLOR_GRAY2RGB))\n",
        "               \n",
        "        cap.release()\n",
        "        \n",
        "        \n",
        "        \n",
        "        return np.array(framearray)"
      ],
      "execution_count": 0,
      "outputs": []
    },
    {
      "cell_type": "code",
      "metadata": {
        "id": "Dbw5dl-WsssL",
        "colab_type": "code",
        "colab": {}
      },
      "source": [
        "import numpy as np\n",
        "import matplotlib.pyplot as plt\n",
        "%matplotlib inline\n",
        "\n",
        "# The path of a sample video in the training data\n",
        "sample_files = train[:1]\n",
        "\n",
        "vid3d = Videoto3D(3,224, 224, 30,598)"
      ],
      "execution_count": 0,
      "outputs": []
    },
    {
      "cell_type": "code",
      "metadata": {
        "id": "DJevw2u5s96i",
        "colab_type": "code",
        "outputId": "b09acaf4-af61-4043-abd0-54443fbe5bfe",
        "colab": {
          "base_uri": "https://localhost:8080/",
          "height": 320
        }
      },
      "source": [
        "# Loading the sample videos, in their original format\n",
        "sample = vid3d.video3d(sample_files[0])\n",
        "print('\\nShape of the sample data:', sample.shape)\n",
        "# Displaying a frame from the sample video\n",
        "#plt.imshow(sample)\n",
        "plt.imshow(sample[2])\n",
        "print(sample.shape)"
      ],
      "execution_count": 0,
      "outputs": [
        {
          "output_type": "stream",
          "text": [
            "\n",
            "Shape of the sample data: (10, 224, 224, 3)\n",
            "(10, 224, 224, 3)\n"
          ],
          "name": "stdout"
        },
        {
          "output_type": "display_data",
          "data": {
            "image/png": "[encoded data removed]",
            "text/plain": [
              "<Figure size 432x288 with 1 Axes>"
            ]
          },
          "metadata": {
            "tags": []
          }
        }
      ]
    },
    {
      "cell_type": "code",
      "metadata": {
        "id": "k5Y3pcrctjQU",
        "colab_type": "code",
        "outputId": "90fdf0e7-cedb-4a91-d23d-ed895c8f93ea",
        "colab": {
          "base_uri": "https://localhost:8080/",
          "height": 306
        }
      },
      "source": [
        "import numpy as np\n",
        "from sklearn.preprocessing import LabelEncoder\n",
        "vid3d = Videoto3D(3,224, 224, 30,518)\n",
        "#vid3d = Videoto3D(3,128, 128, 60,300)\n",
        "X_train=[]\n",
        "#Y_train=[]\n",
        "for i in range(0, len(train)):\n",
        "    X_train.append(vid3d.video3d(train[i]))\n",
        "    #Y_train.append(target[i])\n",
        "\n",
        "label_encoder = LabelEncoder()\n",
        "Y_train = label_encoder.fit_transform(target)\n",
        "X_train=np.array(X_train)\n",
        "Y_train=np.array(Y_train)\n",
        "print(Y_train)\n"
      ],
      "execution_count": 0,
      "outputs": [
        {
          "output_type": "stream",
          "text": [
            "[0 0 0 0 0 0 0 0 0 0 0 0 0 0 0 0 0 0 0 0 0 0 0 0 0 0 0 0 0 0 0 0 0 0 0 0 0\n",
            " 0 0 0 0 0 0 0 0 0 0 0 0 0 0 0 0 0 0 0 0 0 0 0 0 0 0 0 0 0 0 0 0 0 0 0 0 0\n",
            " 0 0 0 0 0 0 0 0 0 0 0 0 0 0 0 0 0 0 0 0 0 0 0 0 0 1 1 1 1 1 1 1 1 1 1 1 1\n",
            " 1 1 1 1 1 1 1 1 1 1 1 1 1 1 1 1 1 1 1 1 1 1 1 1 1 1 1 1 1 1 1 1 1 1 1 1 1\n",
            " 1 1 1 1 1 1 1 1 1 1 1 1 1 1 1 1 1 1 1 1 1 1 1 1 1 1 1 1 1 1 1 1 1 1 1 1 1\n",
            " 1 1 1 1 1 1 1 1 1 1 1 1 1 2 2 2 2 2 2 2 2 2 2 2 2 2 2 2 2 2 2 2 2 2 2 2 2\n",
            " 2 2 2 2 2 2 2 2 2 2 2 2 2 2 2 2 2 2 2 2 2 2 2 2 2 2 2 2 2 2 2 2 2 2 2 2 2\n",
            " 2 2 2 2 2 2 2 2 2 2 2 2 2 2 2 2 2 2 2 2 2 2 2 2 2 2 2 2 2 2 2 2 2 2 2 2 2\n",
            " 2 2 3 3 3 3 3 3 3 3 3 3 3 3 3 3 3 3 3 3 3 3 3 3 3 3 3 3 3 3 3 3 3 3 3 3 3\n",
            " 3 3 3 3 3 3 3 3 3 3 3 3 3 3 3 3 3 3 3 3 3 3 3 3 3 3 3 3 3 3 3 3 3 3 3 3 3\n",
            " 3 3 3 3 3 3 3 3 3 3 3 3 3 3 3 3 3 3 3 3 3 3 3 3 3 3 3 3 4 4 4 4 4 4 4 4 4\n",
            " 4 4 4 4 4 4 4 4 4 4 4 4 4 4 4 4 4 4 4 4 4 4 4 4 4 4 4 4 4 4 4 4 4 4 4 4 4\n",
            " 4 4 4 4 4 4 4 4 4 4 4 4 4 4 4 4 4 4 4 4 4 4 4 4 4 4 4 4 4 4 4 4 4 4 4 4 4\n",
            " 4 4 4 4 4 4 4 4 4 4 4 4 4 4 4 4 4 5 5 5 5 5 5 5 5 5 5 5 5 5 5 5 5 5 5 5 5\n",
            " 5 5 5 5 5 5 5 5 5 5 5 5 5 5 5 5 5 5 5 5 5 5 5 5 5 5 5 5 5 5 5 5 5 5 5 5 5\n",
            " 5 5 5 5 5 5 5 5 5 5 5 5 5 5 5 5 5 5 5 5 5 5 5 5 5 5 5 5 5 5 5 5 5 5 5 5 5\n",
            " 5 5 5 5 5 5]\n"
          ],
          "name": "stdout"
        }
      ]
    },
    {
      "cell_type": "code",
      "metadata": {
        "id": "kWotMgJMu9E0",
        "colab_type": "code",
        "outputId": "90257c8c-a3d9-47de-c007-f52c62828e00",
        "colab": {
          "base_uri": "https://localhost:8080/",
          "height": 51
        }
      },
      "source": [
        "print('Shape of training data:', X_train.shape)\n",
        "print('Shape of training labels:', Y_train.shape)"
      ],
      "execution_count": 0,
      "outputs": [
        {
          "output_type": "stream",
          "text": [
            "Shape of training data: (598, 10, 224, 224, 3)\n",
            "Shape of training labels: (598,)\n"
          ],
          "name": "stdout"
        }
      ]
    },
    {
      "cell_type": "code",
      "metadata": {
        "id": "sNFOEupSvUEx",
        "colab_type": "code",
        "outputId": "5a775570-2fe9-4b02-c128-3607a6850788",
        "colab": {
          "base_uri": "https://localhost:8080/",
          "height": 102
        }
      },
      "source": [
        "print(X_train.shape[0])\n",
        "print(X_train.shape[1])\n",
        "print(X_train.shape[2])\n",
        "print(X_train.shape[3])\n",
        "channels=3\n",
        "print(channels)\n",
        "X_train=X_train.reshape((X_train.shape[0],X_train.shape[1],X_train.shape[2],X_train.shape[3],channels))"
      ],
      "execution_count": 0,
      "outputs": [
        {
          "output_type": "stream",
          "text": [
            "598\n",
            "10\n",
            "224\n",
            "224\n",
            "3\n"
          ],
          "name": "stdout"
        }
      ]
    },
    {
      "cell_type": "code",
      "metadata": {
        "id": "krL0jLIbwXPB",
        "colab_type": "code",
        "colab": {}
      },
      "source": [
        "from keras.models import Sequential\n",
        "from keras.layers import Conv3D, MaxPooling2D, GlobalAveragePooling3D,AveragePooling2D\n",
        "from keras import losses\n",
        "from keras.layers.core import Dense\n",
        "from keras.layers import (Activation, Conv2D, Dense, Dropout, Flatten,\n",
        "                          MaxPooling3D)\n",
        "from keras.losses import categorical_crossentropy, sparse_categorical_crossentropy\n",
        "from keras.models import Sequential\n",
        "from keras.optimizers import Adam, SGD\n",
        "from keras.layers.advanced_activations import LeakyReLU\n",
        "from keras.layers.normalization import BatchNormalization\n",
        "from keras.layers import Dense, Flatten, Dropout, ZeroPadding3D,Bidirectional\n",
        "from keras.layers.recurrent import LSTM\n",
        "from keras.models import Sequential, load_model\n",
        "from keras.optimizers import Adam, RMSprop\n",
        "from keras.layers.wrappers import TimeDistributed\n",
        "from keras.layers.convolutional import (Conv2D, MaxPooling3D, Conv3D,\n",
        "    MaxPooling2D)\n",
        "from collections import deque\n",
        "import sys"
      ],
      "execution_count": 0,
      "outputs": []
    },
    {
      "cell_type": "code",
      "metadata": {
        "id": "HX9lYXE-wggK",
        "colab_type": "code",
        "colab": {}
      },
      "source": [
        "def model_2D_LSTM():\n",
        "  model = Sequential()\n",
        "  model.add(TimeDistributed(Conv2D(32, (7, 7), strides=(2, 2),activation='relu', padding='same'), input_shape=X_train.shape[1:]))\n",
        "  model.add(TimeDistributed(Conv2D(32, (3,3),kernel_initializer=\"he_normal\", activation='relu')))\n",
        "  #model.add(TimeDistributed(MaxPooling2D((2, 2), strides=(2, 2))))\n",
        "  model.add(TimeDistributed(AveragePooling2D((2, 2), strides=(2, 2))))\n",
        "  #model.add(TimeDistributed(Conv2D(64, (3,3),padding='same', activation='relu')))\n",
        "  model.add(TimeDistributed(Conv2D(64, (3,3),padding='same')))\n",
        "  model.add(LeakyReLU())\n",
        "  model.add(Dropout(0.5))\n",
        "  #model.add(TimeDistributed(Conv2D(64, (3,3),padding='same', activation='relu')))\n",
        "  model.add(TimeDistributed(AveragePooling2D((2, 2), strides=(2, 2))))\n",
        "  #model.add(TimeDistributed(MaxPooling2D((2, 2), strides=(2, 2))))\n",
        "  #model.add(TimeDistributed(Conv2D(128, (3,3),padding='same', activation='relu')))\n",
        "  #model.add(TimeDistributed(Conv2D(128, (3,3),padding='same', activation='relu')))\n",
        "  model.add(TimeDistributed(Conv2D(128, (3,3),padding='same')))\n",
        "  model.add(LeakyReLU())\n",
        "  model.add(Dropout(0.5))\n",
        "  model.add(BatchNormalization())\n",
        "  #model.add(TimeDistributed(MaxPooling2D((2, 2), strides=(2, 2))))\n",
        "  model.add(TimeDistributed(AveragePooling2D((2, 2), strides=(2, 2))))\n",
        "  #model.add(TimeDistributed(Conv2D(256, (3,3),padding='same', activation='relu')))\n",
        "  #model.add(TimeDistributed(Conv2D(256, (3,3),padding='same', activation='relu')))\n",
        "  model.add(TimeDistributed(Conv2D(256, (3,3),padding='same')))\n",
        "  model.add(LeakyReLU())\n",
        "  model.add(Dropout(0.5))\n",
        "  model.add(TimeDistributed(AveragePooling2D((2, 2), strides=(2, 2))))\n",
        "  #model.add(TimeDistributed(MaxPooling2D((2, 2), strides=(2, 2))))   \n",
        "  #model.add(TimeDistributed(Conv2D(512, (3,3),padding='same', activation='relu')))\n",
        "  #model.add(TimeDistributed(Conv2D(512, (3,3),padding='same', activation='relu')))\n",
        "  model.add(TimeDistributed(Conv2D(64, (3,3),padding='same')))\n",
        "  model.add(LeakyReLU())\n",
        "  model.add(Dropout(0.5))\n",
        "  model.add(TimeDistributed(AveragePooling2D((2, 2), strides=(2, 2))))\n",
        "  model.add(BatchNormalization())\n",
        "  #model.add(TimeDistributed(MaxPooling2D((2, 2), strides=(2, 2))))\n",
        "  model.add(TimeDistributed(Flatten()))\n",
        "  model.add(Dropout(0.5))\n",
        "  \n",
        "  model.add(Bidirectional(LSTM(512, return_sequences=True, dropout=0.3)))\n",
        "  model.add(Bidirectional(LSTM(256, return_sequences=False, dropout=0.3)))\n",
        "  #model.add(Dropout(0.5))\n",
        "  #model.add(Dense(256, activation='softmax'))\n",
        "  model.add(Dense(6, activation='softmax'))\n",
        "  #model.compile(loss=sparse_categorical_crossentropy,optimizer=Adam(), metrics=['accuracy'])\n",
        "  model.compile(loss='sparse_categorical_crossentropy',\n",
        "                  optimizer=SGD(lr=0.03, momentum=0.7),\n",
        "                  metrics=['accuracy'])\n",
        "  #model.summary()\n",
        "  return model"
      ],
      "execution_count": 0,
      "outputs": []
    },
    {
      "cell_type": "code",
      "metadata": {
        "id": "qs59c1sFwkLA",
        "colab_type": "code",
        "outputId": "8f6d41c6-a2c6-42c9-ef45-b8b0d973feb3",
        "colab": {
          "base_uri": "https://localhost:8080/",
          "height": 3128
        }
      },
      "source": [
        "from sklearn.model_selection import train_test_split, StratifiedKFold\n",
        "from keras.utils import to_categorical\n",
        "from sklearn.preprocessing import OneHotEncoder\n",
        "kFold = StratifiedKFold(n_splits=10)\n",
        "model = None\n",
        "model = model_2D_LSTM()\n",
        "\n",
        "for training, testing in kFold.split(X_train, Y_train):\n",
        "  \n",
        "  '''Y_train[training].reshape(-1,1)\n",
        "  Y_train[testing].reshape(-1,1)'''\n",
        "  #onehot_encoder = OneHotEncoder(sparse=False)\n",
        "  #Y_train[training] = (Y_train[training]).reshape(len(training))\n",
        "  #Y_train[training] = onehot_encoder.fit_transform((Y_train[training]))\n",
        "  #print(Y_train[training])\n",
        "  \n",
        "  #onehot_encoder = OneHotEncoder(sparse=False)\n",
        "  #Y_train[testing] = Y_train[testing].reshape(len(testing))\n",
        "  #Y_train[testing] = onehot_encoder.fit_transform(Y_train[testing])\n",
        "  #print(Y_train[testing])\n",
        "\n",
        "  '''np.reshape(Y_train[training],(len(training),-1))\n",
        "  print(Y_train[training].shape)\n",
        "  Y_train[training]=to_categorical(Y_train[training], num_classes=7)\n",
        "  np.reshape(Y_train[testing],(-1,1))\n",
        "  Y_train[testing]=to_categorical(Y_train[testing], num_classes=7)'''\n",
        "  #train_evaluate(model, X_train[train], Y_train[train], X_train[test], Y_train[test])\n",
        "  model.fit(X_train[training],Y_train[training],validation_data = (X_train[testing],Y_train[testing]),batch_size=50,epochs=30,shuffle=True,verbose=1)\n"
      ],
      "execution_count": 0,
      "outputs": [
        {
          "output_type": "stream",
          "text": [
            "Train on 538 samples, validate on 60 samples\n",
            "Epoch 1/30\n",
            "538/538 [==============================] - 14s 26ms/step - loss: 1.7716 - acc: 0.1989 - val_loss: 1.7628 - val_acc: 0.1833\n",
            "Epoch 2/30\n",
            "538/538 [==============================] - 9s 16ms/step - loss: 1.6038 - acc: 0.2509 - val_loss: 1.5319 - val_acc: 0.2500\n",
            "Epoch 3/30\n",
            "538/538 [==============================] - 9s 16ms/step - loss: 1.4157 - acc: 0.3271 - val_loss: 1.1783 - val_acc: 0.3833\n",
            "Epoch 4/30\n",
            "538/538 [==============================] - 9s 16ms/step - loss: 1.3316 - acc: 0.3048 - val_loss: 1.0860 - val_acc: 0.3833\n",
            "Epoch 5/30\n",
            "538/538 [==============================] - 9s 17ms/step - loss: 1.2974 - acc: 0.3123 - val_loss: 1.1570 - val_acc: 0.4333\n",
            "Epoch 6/30\n",
            "538/538 [==============================] - 9s 16ms/step - loss: 1.2665 - acc: 0.3439 - val_loss: 1.1726 - val_acc: 0.3500\n",
            "Epoch 7/30\n",
            "538/538 [==============================] - 9s 16ms/step - loss: 1.2543 - acc: 0.3494 - val_loss: 1.3107 - val_acc: 0.3000\n",
            "Epoch 8/30\n",
            "538/538 [==============================] - 9s 16ms/step - loss: 1.2177 - acc: 0.3513 - val_loss: 1.0956 - val_acc: 0.4333\n",
            "Epoch 9/30\n",
            "538/538 [==============================] - 9s 17ms/step - loss: 1.1768 - acc: 0.3680 - val_loss: 1.9543 - val_acc: 0.1667\n",
            "Epoch 10/30\n",
            "538/538 [==============================] - 9s 17ms/step - loss: 1.1573 - acc: 0.3513 - val_loss: 1.0458 - val_acc: 0.4167\n",
            "Epoch 11/30\n",
            "538/538 [==============================] - 9s 17ms/step - loss: 1.1519 - acc: 0.3848 - val_loss: 1.4522 - val_acc: 0.3167\n",
            "Epoch 12/30\n",
            "538/538 [==============================] - 9s 17ms/step - loss: 1.1299 - acc: 0.3978 - val_loss: 2.0661 - val_acc: 0.1833\n",
            "Epoch 13/30\n",
            "538/538 [==============================] - 9s 17ms/step - loss: 1.1793 - acc: 0.3699 - val_loss: 1.4833 - val_acc: 0.2667\n",
            "Epoch 14/30\n",
            "538/538 [==============================] - 9s 17ms/step - loss: 1.1544 - acc: 0.3848 - val_loss: 1.3204 - val_acc: 0.3667\n",
            "Epoch 15/30\n",
            "538/538 [==============================] - 9s 17ms/step - loss: 1.1307 - acc: 0.4182 - val_loss: 1.0699 - val_acc: 0.4333\n",
            "Epoch 16/30\n",
            "538/538 [==============================] - 9s 17ms/step - loss: 1.1130 - acc: 0.4312 - val_loss: 1.0602 - val_acc: 0.4833\n",
            "Epoch 17/30\n",
            "538/538 [==============================] - 9s 17ms/step - loss: 1.0736 - acc: 0.4312 - val_loss: 1.0605 - val_acc: 0.4333\n",
            "Epoch 18/30\n",
            "538/538 [==============================] - 9s 17ms/step - loss: 1.0797 - acc: 0.4349 - val_loss: 1.0491 - val_acc: 0.5000\n",
            "Epoch 19/30\n",
            "538/538 [==============================] - 9s 17ms/step - loss: 1.0521 - acc: 0.4349 - val_loss: 1.1276 - val_acc: 0.4333\n",
            "Epoch 20/30\n",
            "538/538 [==============================] - 9s 17ms/step - loss: 1.0652 - acc: 0.4665 - val_loss: 1.1018 - val_acc: 0.4500\n",
            "Epoch 21/30\n",
            "538/538 [==============================] - 9s 17ms/step - loss: 1.0309 - acc: 0.4777 - val_loss: 1.2073 - val_acc: 0.3833\n",
            "Epoch 22/30\n",
            "538/538 [==============================] - 9s 17ms/step - loss: 1.0363 - acc: 0.4498 - val_loss: 2.3782 - val_acc: 0.2167\n",
            "Epoch 23/30\n",
            "538/538 [==============================] - 9s 17ms/step - loss: 1.0340 - acc: 0.4554 - val_loss: 1.0903 - val_acc: 0.4500\n",
            "Epoch 24/30\n",
            "538/538 [==============================] - 9s 17ms/step - loss: 1.0386 - acc: 0.4461 - val_loss: 1.1169 - val_acc: 0.4667\n",
            "Epoch 25/30\n",
            "538/538 [==============================] - 9s 17ms/step - loss: 1.0314 - acc: 0.4461 - val_loss: 1.0823 - val_acc: 0.4667\n",
            "Epoch 26/30\n",
            "538/538 [==============================] - 9s 17ms/step - loss: 1.0158 - acc: 0.4610 - val_loss: 1.3620 - val_acc: 0.3500\n",
            "Epoch 27/30\n",
            "538/538 [==============================] - 9s 17ms/step - loss: 1.0374 - acc: 0.4442 - val_loss: 1.1140 - val_acc: 0.4833\n",
            "Epoch 28/30\n",
            "538/538 [==============================] - 9s 17ms/step - loss: 1.0038 - acc: 0.4517 - val_loss: 1.1770 - val_acc: 0.4833\n",
            "Epoch 29/30\n",
            "538/538 [==============================] - 9s 17ms/step - loss: 0.9723 - acc: 0.4833 - val_loss: 1.0210 - val_acc: 0.4667\n",
            "Epoch 30/30\n",
            "538/538 [==============================] - 9s 17ms/step - loss: 0.9568 - acc: 0.5093 - val_loss: 1.0300 - val_acc: 0.5000\n",
            "Train on 538 samples, validate on 60 samples\n",
            "Epoch 1/30\n",
            "538/538 [==============================] - 9s 17ms/step - loss: 1.0053 - acc: 0.4628 - val_loss: 0.9657 - val_acc: 0.5167\n",
            "Epoch 2/30\n",
            "538/538 [==============================] - 9s 17ms/step - loss: 0.9688 - acc: 0.4833 - val_loss: 0.8998 - val_acc: 0.4833\n",
            "Epoch 3/30\n",
            "538/538 [==============================] - 9s 17ms/step - loss: 0.9702 - acc: 0.5074 - val_loss: 1.2445 - val_acc: 0.4000\n",
            "Epoch 4/30\n",
            "538/538 [==============================] - 9s 17ms/step - loss: 0.9956 - acc: 0.4963 - val_loss: 0.8488 - val_acc: 0.5333\n",
            "Epoch 5/30\n",
            "538/538 [==============================] - 9s 17ms/step - loss: 0.9682 - acc: 0.4796 - val_loss: 0.8508 - val_acc: 0.5500\n",
            "Epoch 6/30\n",
            "538/538 [==============================] - 9s 17ms/step - loss: 0.9767 - acc: 0.4833 - val_loss: 0.8222 - val_acc: 0.5333\n",
            "Epoch 7/30\n",
            "538/538 [==============================] - 9s 17ms/step - loss: 0.9459 - acc: 0.5056 - val_loss: 0.8218 - val_acc: 0.5833\n",
            "Epoch 8/30\n",
            "538/538 [==============================] - 9s 17ms/step - loss: 0.9511 - acc: 0.5149 - val_loss: 1.0688 - val_acc: 0.5000\n",
            "Epoch 9/30\n",
            "538/538 [==============================] - 9s 17ms/step - loss: 0.9326 - acc: 0.5204 - val_loss: 1.3326 - val_acc: 0.4167\n",
            "Epoch 10/30\n",
            "538/538 [==============================] - 9s 17ms/step - loss: 0.9296 - acc: 0.5186 - val_loss: 2.3850 - val_acc: 0.2000\n",
            "Epoch 11/30\n",
            "538/538 [==============================] - 9s 17ms/step - loss: 0.9389 - acc: 0.4907 - val_loss: 0.9798 - val_acc: 0.5500\n",
            "Epoch 12/30\n",
            "538/538 [==============================] - 9s 17ms/step - loss: 0.9111 - acc: 0.5390 - val_loss: 0.8559 - val_acc: 0.5667\n",
            "Epoch 13/30\n",
            "538/538 [==============================] - 9s 17ms/step - loss: 0.8922 - acc: 0.5390 - val_loss: 1.1739 - val_acc: 0.4500\n",
            "Epoch 14/30\n",
            "538/538 [==============================] - 9s 17ms/step - loss: 0.9279 - acc: 0.5186 - val_loss: 0.9259 - val_acc: 0.4833\n",
            "Epoch 15/30\n",
            "538/538 [==============================] - 9s 17ms/step - loss: 0.9725 - acc: 0.4926 - val_loss: 1.0421 - val_acc: 0.5000\n",
            "Epoch 16/30\n",
            "538/538 [==============================] - 9s 17ms/step - loss: 0.9349 - acc: 0.5353 - val_loss: 0.9561 - val_acc: 0.4667\n",
            "Epoch 17/30\n",
            "538/538 [==============================] - 9s 17ms/step - loss: 0.9062 - acc: 0.5595 - val_loss: 0.9787 - val_acc: 0.5167\n",
            "Epoch 18/30\n",
            "538/538 [==============================] - 9s 17ms/step - loss: 0.8589 - acc: 0.5372 - val_loss: 0.9042 - val_acc: 0.5333\n",
            "Epoch 19/30\n",
            "538/538 [==============================] - 9s 17ms/step - loss: 0.8627 - acc: 0.5688 - val_loss: 0.9004 - val_acc: 0.5333\n",
            "Epoch 20/30\n",
            "538/538 [==============================] - 9s 17ms/step - loss: 0.8726 - acc: 0.5632 - val_loss: 0.8678 - val_acc: 0.5667\n",
            "Epoch 21/30\n",
            "538/538 [==============================] - 9s 17ms/step - loss: 0.8685 - acc: 0.5483 - val_loss: 0.8867 - val_acc: 0.5000\n",
            "Epoch 22/30\n",
            "538/538 [==============================] - 9s 17ms/step - loss: 0.8712 - acc: 0.5651 - val_loss: 0.8690 - val_acc: 0.5333\n",
            "Epoch 23/30\n",
            "538/538 [==============================] - 9s 17ms/step - loss: 0.8964 - acc: 0.5186 - val_loss: 0.9628 - val_acc: 0.4833\n",
            "Epoch 24/30\n",
            "538/538 [==============================] - 9s 17ms/step - loss: 0.9125 - acc: 0.5446 - val_loss: 1.0014 - val_acc: 0.5333\n",
            "Epoch 25/30\n",
            "538/538 [==============================] - 9s 17ms/step - loss: 0.9073 - acc: 0.5725 - val_loss: 1.1201 - val_acc: 0.5500\n",
            "Epoch 26/30\n",
            "538/538 [==============================] - 9s 17ms/step - loss: 0.9192 - acc: 0.5483 - val_loss: 0.9174 - val_acc: 0.5167\n",
            "Epoch 27/30\n",
            "538/538 [==============================] - 9s 17ms/step - loss: 0.8932 - acc: 0.5297 - val_loss: 0.9716 - val_acc: 0.5167\n",
            "Epoch 28/30\n",
            "538/538 [==============================] - 9s 17ms/step - loss: 0.8774 - acc: 0.5446 - val_loss: 0.8371 - val_acc: 0.6167\n",
            "Epoch 29/30\n",
            "538/538 [==============================] - 9s 17ms/step - loss: 0.8843 - acc: 0.5316 - val_loss: 0.8641 - val_acc: 0.5500\n",
            "Epoch 30/30\n",
            "538/538 [==============================] - 9s 17ms/step - loss: 0.8429 - acc: 0.5613 - val_loss: 0.9714 - val_acc: 0.5167\n",
            "Train on 538 samples, validate on 60 samples\n",
            "Epoch 1/30\n",
            "538/538 [==============================] - 9s 17ms/step - loss: 0.8416 - acc: 0.5781 - val_loss: 0.8926 - val_acc: 0.4833\n",
            "Epoch 2/30\n",
            "538/538 [==============================] - 9s 17ms/step - loss: 0.8251 - acc: 0.5781 - val_loss: 1.1853 - val_acc: 0.4500\n",
            "Epoch 3/30\n",
            "538/538 [==============================] - 9s 17ms/step - loss: 0.8419 - acc: 0.5725 - val_loss: 1.0382 - val_acc: 0.4500\n",
            "Epoch 4/30\n",
            "538/538 [==============================] - 9s 17ms/step - loss: 0.8455 - acc: 0.5632 - val_loss: 0.7976 - val_acc: 0.6333\n",
            "Epoch 5/30\n",
            "538/538 [==============================] - 9s 16ms/step - loss: 0.8425 - acc: 0.5651 - val_loss: 1.1526 - val_acc: 0.4333\n",
            "Epoch 6/30\n",
            "538/538 [==============================] - 9s 17ms/step - loss: 0.8153 - acc: 0.5911 - val_loss: 1.0367 - val_acc: 0.5333\n",
            "Epoch 7/30\n",
            "538/538 [==============================] - 9s 17ms/step - loss: 0.8149 - acc: 0.6004 - val_loss: 1.0343 - val_acc: 0.5000\n",
            "Epoch 8/30\n",
            "538/538 [==============================] - 9s 17ms/step - loss: 0.8542 - acc: 0.5576 - val_loss: 0.8331 - val_acc: 0.6000\n",
            "Epoch 9/30\n",
            "538/538 [==============================] - 9s 16ms/step - loss: 0.8964 - acc: 0.5632 - val_loss: 0.7569 - val_acc: 0.6000\n",
            "Epoch 10/30\n",
            "538/538 [==============================] - 9s 17ms/step - loss: 0.8424 - acc: 0.6041 - val_loss: 1.5889 - val_acc: 0.4000\n",
            "Epoch 11/30\n",
            "538/538 [==============================] - 9s 17ms/step - loss: 0.8527 - acc: 0.5781 - val_loss: 1.3774 - val_acc: 0.4667\n",
            "Epoch 12/30\n",
            "538/538 [==============================] - 9s 17ms/step - loss: 0.8001 - acc: 0.6004 - val_loss: 1.0125 - val_acc: 0.4833\n",
            "Epoch 13/30\n",
            "538/538 [==============================] - 9s 17ms/step - loss: 0.7957 - acc: 0.6227 - val_loss: 2.0661 - val_acc: 0.4000\n",
            "Epoch 14/30\n",
            "538/538 [==============================] - 9s 17ms/step - loss: 0.8004 - acc: 0.5967 - val_loss: 0.9209 - val_acc: 0.5167\n",
            "Epoch 15/30\n",
            "538/538 [==============================] - 9s 17ms/step - loss: 0.7997 - acc: 0.6152 - val_loss: 1.0160 - val_acc: 0.6000\n",
            "Epoch 16/30\n",
            "538/538 [==============================] - 9s 17ms/step - loss: 0.7978 - acc: 0.5874 - val_loss: 0.9695 - val_acc: 0.5500\n",
            "Epoch 17/30\n",
            "538/538 [==============================] - 9s 17ms/step - loss: 0.7663 - acc: 0.6561 - val_loss: 1.6939 - val_acc: 0.4833\n",
            "Epoch 18/30\n",
            "538/538 [==============================] - 9s 17ms/step - loss: 0.7910 - acc: 0.5948 - val_loss: 0.7730 - val_acc: 0.5500\n",
            "Epoch 19/30\n",
            "538/538 [==============================] - 9s 17ms/step - loss: 0.7441 - acc: 0.6580 - val_loss: 0.8526 - val_acc: 0.5167\n",
            "Epoch 20/30\n",
            "538/538 [==============================] - 9s 17ms/step - loss: 0.7377 - acc: 0.6691 - val_loss: 1.1831 - val_acc: 0.4833\n",
            "Epoch 21/30\n",
            "538/538 [==============================] - 9s 17ms/step - loss: 0.7414 - acc: 0.6487 - val_loss: 1.1012 - val_acc: 0.5333\n",
            "Epoch 22/30\n",
            "538/538 [==============================] - 9s 17ms/step - loss: 0.7654 - acc: 0.6413 - val_loss: 1.0754 - val_acc: 0.5333\n",
            "Epoch 23/30\n",
            "538/538 [==============================] - 9s 17ms/step - loss: 0.6966 - acc: 0.6803 - val_loss: 0.7885 - val_acc: 0.5833\n",
            "Epoch 24/30\n",
            "538/538 [==============================] - 9s 17ms/step - loss: 0.7222 - acc: 0.6710 - val_loss: 1.0790 - val_acc: 0.5000\n",
            "Epoch 25/30\n",
            "538/538 [==============================] - 9s 17ms/step - loss: 0.7310 - acc: 0.6691 - val_loss: 1.1378 - val_acc: 0.5000\n",
            "Epoch 26/30\n",
            "538/538 [==============================] - 9s 17ms/step - loss: 0.7356 - acc: 0.6413 - val_loss: 0.7320 - val_acc: 0.6333\n",
            "Epoch 27/30\n",
            "538/538 [==============================] - 9s 17ms/step - loss: 0.6734 - acc: 0.6766 - val_loss: 0.9625 - val_acc: 0.5833\n",
            "Epoch 28/30\n",
            "538/538 [==============================] - 9s 17ms/step - loss: 0.6891 - acc: 0.6859 - val_loss: 1.2049 - val_acc: 0.5000\n",
            "Epoch 29/30\n",
            "538/538 [==============================] - 9s 17ms/step - loss: 0.6946 - acc: 0.6561 - val_loss: 1.2383 - val_acc: 0.4500\n",
            "Epoch 30/30\n",
            "250/538 [============>.................] - ETA: 4s - loss: 0.6618 - acc: 0.6960"
          ],
          "name": "stdout"
        }
      ]
    },
    {
      "cell_type": "code",
      "metadata": {
        "id": "-_W7-sd4w6Iq",
        "colab_type": "code",
        "outputId": "8b087986-ebba-407a-f8cd-bec612864d5a",
        "colab": {
          "base_uri": "https://localhost:8080/",
          "height": 51
        }
      },
      "source": [
        "#model.load_weights('Model_1.weights.best.hdf5')\n",
        "#model.save('/content/drive/My Drive/trained_model.h5')\n",
        "from keras.models import model_from_json\n",
        "# Testing the model on the Test data\n",
        "X_test=X_train[0:224]\n",
        "Y_test=Y_train[0:224]\n",
        "'''(loss, accuracy) = model.evaluate(X_test, Y_test, batch_size=16, verbose=1)\n",
        "print('Accuracy on test data: {:.2f}%'.format(accuracy * 100))'''\n",
        "\n",
        "scores = model.evaluate(X_test, Y_test, verbose=0)\n",
        "print(\"%s: %.2f%%\" % (model.metrics_names[1], scores[1]*100))\n",
        " # serialize model to JSON\n",
        "model_json = model.to_json()\n",
        "with open(\"/content/drive/My Drive/Colab Notebooks/model.json\", \"w\") as json_file:\n",
        "    json_file.write(model_json)\n",
        "# serialize weights to HDF5\n",
        "model.save_weights(\"/content/drive/My Drive/Colab Notebooks/model.h5\")\n",
        "print(\"Saved model\")"
      ],
      "execution_count": 0,
      "outputs": [
        {
          "output_type": "stream",
          "text": [
            "acc: 100.00%\n",
            "Saved model\n"
          ],
          "name": "stdout"
        }
      ]
    },
    {
      "cell_type": "code",
      "metadata": {
        "id": "NR1Za_g_zBjQ",
        "colab_type": "code",
        "colab": {}
      },
      "source": [
        "from sklearn.model_selection import cross_val_predict\n",
        "predicted = cross_val_predict(model, X_train,Y_train, cv=10)\n",
        "fig, ax = plt.subplots()\n",
        "ax.scatter(y, predicted, edgecolors=(0, 0, 0))\n",
        "ax.plot([y.min(), y.max()], [y.min(), y.max()], 'k--', lw=4)\n",
        "ax.set_xlabel('Measured')\n",
        "ax.set_ylabel('Predicted')\n",
        "plt.show()"
      ],
      "execution_count": 0,
      "outputs": []
    },
    {
      "cell_type": "code",
      "metadata": {
        "id": "21iXXpkpTCoh",
        "colab_type": "code",
        "colab": {}
      },
      "source": [
        "def model_2D_LSTM():\n",
        "  model = Sequential()\n",
        "  model.add(TimeDistributed(Conv2D(32, (7, 7), strides=(2, 2),activation='relu', padding='same'), input_shape=X_train.shape[1:]))\n",
        "  model.add(TimeDistributed(Conv2D(32, (3,3),kernel_initializer=\"he_normal\", activation='relu')))\n",
        "  #model.add(TimeDistributed(MaxPooling2D((2, 2), strides=(2, 2))))\n",
        "  model.add(TimeDistributed(AveragePooling2D((2, 2), strides=(2, 2))))\n",
        "  model.add(TimeDistributed(Conv2D(64, (3,3),padding='same', activation='relu')))\n",
        "  model.add(TimeDistributed(Conv2D(64, (3,3),padding='same', activation='relu')))\n",
        "  model.add(TimeDistributed(AveragePooling2D((2, 2), strides=(2, 2))))\n",
        "  #model.add(TimeDistributed(MaxPooling2D((2, 2), strides=(2, 2))))\n",
        "  model.add(TimeDistributed(Conv2D(128, (3,3),padding='same', activation='relu')))\n",
        "  model.add(TimeDistributed(Conv2D(128, (3,3),padding='same', activation='relu')))\n",
        "  #model.add(TimeDistributed(MaxPooling2D((2, 2), strides=(2, 2))))\n",
        "  model.add(TimeDistributed(AveragePooling2D((2, 2), strides=(2, 2))))\n",
        "  model.add(TimeDistributed(Conv2D(256, (3,3),padding='same', activation='relu')))\n",
        "  model.add(TimeDistributed(Conv2D(256, (3,3),padding='same', activation='relu')))\n",
        "  model.add(TimeDistributed(AveragePooling2D((2, 2), strides=(2, 2))))\n",
        "  #model.add(TimeDistributed(MaxPooling2D((2, 2), strides=(2, 2))))   \n",
        "  model.add(TimeDistributed(Conv2D(512, (3,3),padding='same', activation='relu')))\n",
        "  model.add(TimeDistributed(Conv2D(512, (3,3),padding='same', activation='relu')))\n",
        "  model.add(TimeDistributed(AveragePooling2D((2, 2), strides=(2, 2))))\n",
        "  #model.add(TimeDistributed(MaxPooling2D((2, 2), strides=(2, 2))))\n",
        "  model.add(TimeDistributed(Flatten()))\n",
        "  model.add(Dropout(0.3))\n",
        "  model.add(Bidirectional(LSTM(512, return_sequences=True)))\n",
        "  model.add(Bidirectional(LSTM(256, return_sequences=False)))\n",
        "  model.add(Dense(6, activation='softmax'))\n",
        "  #model.compile(loss=sparse_categorical_crossentropy,optimizer=Adam(), metrics=['accuracy'])\n",
        "  model.compile(loss='sparse_categorical_crossentropy',\n",
        "                  optimizer=SGD(lr=0.1, momentum=0.8),\n",
        "                  metrics=['accuracy'])\n",
        "  #model.summary()\n",
        "  return model"
      ],
      "execution_count": 0,
      "outputs": []
    }
  ]
}